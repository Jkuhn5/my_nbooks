{
 "cells": [
  {
   "cell_type": "markdown",
   "id": "ddb79346-bf29-4d1f-8c8c-4071eb0986b2",
   "metadata": {},
   "source": [
    "# Florida Keys 10 Year Ocean Temperature Analysis"
   ]
  },
  {
   "cell_type": "markdown",
   "id": "36ba22da-707f-467f-bf02-fbc75a4acda5",
   "metadata": {},
   "source": [
    "## by Jacob Kuhn"
   ]
  },
  {
   "cell_type": "markdown",
   "id": "84728248-1521-41c9-812c-a6bfdc80df0c",
   "metadata": {},
   "source": [
    "Data sources are from the NOAA Classroom Interactive Lab assignment and the attached Florida Keys Temperature Data."
   ]
  },
  {
   "cell_type": "code",
   "execution_count": 6,
   "id": "14665505-9441-419f-9f43-2513e29ada10",
   "metadata": {},
   "outputs": [],
   "source": [
    "import pandas as pd"
   ]
  },
  {
   "cell_type": "code",
   "execution_count": 27,
   "id": "96bee3fa-3938-4078-97c9-ca9d7cfef626",
   "metadata": {},
   "outputs": [],
   "source": [
    "Temps = pd.read_csv('Florida_Keys.csv')"
   ]
  },
  {
   "cell_type": "code",
   "execution_count": 29,
   "id": "9d571aeb-55d5-4461-8334-5360deac53e3",
   "metadata": {},
   "outputs": [
    {
     "data": {
      "text/plain": [
       "<bound method NDFrame.head of              Date  Latitude  Longitude  Sea_Surface_Temperature  HotSpots  \\\n",
       "0      01/01/1985     24.75    -81.625                    24.96      0.00   \n",
       "1      01/02/1985     24.75    -81.625                    24.95      0.00   \n",
       "2      01/03/1985     24.75    -81.625                    24.98      0.00   \n",
       "3      01/04/1985     24.75    -81.625                    24.63      0.00   \n",
       "4      01/05/1985     24.75    -81.625                    24.35      0.00   \n",
       "...           ...       ...        ...                      ...       ...   \n",
       "14781  06/21/2025     24.75    -81.625                    30.19      0.42   \n",
       "14782  06/22/2025     24.75    -81.625                    30.13      0.42   \n",
       "14783  06/23/2025     24.75    -81.625                    30.00      0.30   \n",
       "14784  06/24/2025     24.75    -81.625                    30.02      0.18   \n",
       "14785  06/25/2025     24.75    -81.625                    29.78      0.14   \n",
       "\n",
       "       Degree_Heating_Weeks  Bleaching_Alert_Area  \n",
       "0                    0.0000                     0  \n",
       "1                    0.0000                     0  \n",
       "2                    0.0000                     0  \n",
       "3                    0.0000                     0  \n",
       "4                    0.0000                     0  \n",
       "...                     ...                   ...  \n",
       "14781                0.3157                     1  \n",
       "14782                0.3157                     1  \n",
       "14783                0.3157                     1  \n",
       "14784                0.3157                     1  \n",
       "14785                0.3157                     1  \n",
       "\n",
       "[14786 rows x 7 columns]>"
      ]
     },
     "execution_count": 29,
     "metadata": {},
     "output_type": "execute_result"
    }
   ],
   "source": [
    "Temps.head"
   ]
  },
  {
   "cell_type": "code",
   "execution_count": 35,
   "id": "d41edc56-f4b8-4419-bdd7-f4e48302fd24",
   "metadata": {},
   "outputs": [
    {
     "data": {
      "text/plain": [
       "<bound method Series.info of 0        01/01/1985\n",
       "1        01/02/1985\n",
       "2        01/03/1985\n",
       "3        01/04/1985\n",
       "4        01/05/1985\n",
       "            ...    \n",
       "14781    06/21/2025\n",
       "14782    06/22/2025\n",
       "14783    06/23/2025\n",
       "14784    06/24/2025\n",
       "14785    06/25/2025\n",
       "Name: Date, Length: 14786, dtype: object>"
      ]
     },
     "execution_count": 35,
     "metadata": {},
     "output_type": "execute_result"
    }
   ],
   "source": [
    "Temps.Date.info"
   ]
  },
  {
   "cell_type": "code",
   "execution_count": 93,
   "id": "adbb7a08-7309-4816-87c0-dcf850377387",
   "metadata": {},
   "outputs": [
    {
     "data": {
      "text/plain": [
       "'01/01/2015'"
      ]
     },
     "execution_count": 93,
     "metadata": {},
     "output_type": "execute_result"
    }
   ],
   "source": [
    "Temps['Date'][10957]"
   ]
  },
  {
   "cell_type": "code",
   "execution_count": 125,
   "id": "72b61307-130e-49a9-b790-fc79ebc1162c",
   "metadata": {},
   "outputs": [],
   "source": [
    "Temps_10 = Temps[10957:14786]"
   ]
  },
  {
   "cell_type": "code",
   "execution_count": 127,
   "id": "0091d131-4b98-46f1-a0de-6378ea4726a3",
   "metadata": {},
   "outputs": [
    {
     "data": {
      "text/plain": [
       "<bound method NDFrame.head of              Date  Latitude  Longitude  Sea_Surface_Temperature  HotSpots  \\\n",
       "10957  01/01/2015     24.75    -81.625                    25.48      0.00   \n",
       "10958  01/02/2015     24.75    -81.625                    25.60      0.00   \n",
       "10959  01/03/2015     24.75    -81.625                    25.68      0.00   \n",
       "10960  01/04/2015     24.75    -81.625                    25.61      0.00   \n",
       "10961  01/05/2015     24.75    -81.625                    25.73      0.00   \n",
       "...           ...       ...        ...                      ...       ...   \n",
       "14781  06/21/2025     24.75    -81.625                    30.19      0.42   \n",
       "14782  06/22/2025     24.75    -81.625                    30.13      0.42   \n",
       "14783  06/23/2025     24.75    -81.625                    30.00      0.30   \n",
       "14784  06/24/2025     24.75    -81.625                    30.02      0.18   \n",
       "14785  06/25/2025     24.75    -81.625                    29.78      0.14   \n",
       "\n",
       "       Degree_Heating_Weeks  Bleaching_Alert_Area  \n",
       "10957                0.0000                     0  \n",
       "10958                0.0000                     0  \n",
       "10959                0.0000                     0  \n",
       "10960                0.0000                     0  \n",
       "10961                0.0000                     0  \n",
       "...                     ...                   ...  \n",
       "14781                0.3157                     1  \n",
       "14782                0.3157                     1  \n",
       "14783                0.3157                     1  \n",
       "14784                0.3157                     1  \n",
       "14785                0.3157                     1  \n",
       "\n",
       "[3829 rows x 7 columns]>"
      ]
     },
     "execution_count": 127,
     "metadata": {},
     "output_type": "execute_result"
    }
   ],
   "source": [
    "Temps_10.head"
   ]
  },
  {
   "cell_type": "code",
   "execution_count": 140,
   "id": "42a5f216-805e-4185-9e0e-cb541dab99c7",
   "metadata": {},
   "outputs": [],
   "source": [
    "Temps_11 = Temps_10.drop('Latitude', axis=1, inplace=False)"
   ]
  },
  {
   "cell_type": "code",
   "execution_count": 144,
   "id": "9c2654dc-7c59-4a3a-8dcf-6f86370d7155",
   "metadata": {
    "jupyter": {
     "source_hidden": true
    }
   },
   "outputs": [],
   "source": [
    "Temps_12 = Temps_11.drop('Longitude', axis=1, inplace=False)"
   ]
  },
  {
   "cell_type": "code",
   "execution_count": 150,
   "id": "d32350ed-b4b1-4e0f-a611-3ca2cd18445c",
   "metadata": {},
   "outputs": [
    {
     "data": {
      "text/html": [
       "<div>\n",
       "<style scoped>\n",
       "    .dataframe tbody tr th:only-of-type {\n",
       "        vertical-align: middle;\n",
       "    }\n",
       "\n",
       "    .dataframe tbody tr th {\n",
       "        vertical-align: top;\n",
       "    }\n",
       "\n",
       "    .dataframe thead th {\n",
       "        text-align: right;\n",
       "    }\n",
       "</style>\n",
       "<table border=\"1\" class=\"dataframe\">\n",
       "  <thead>\n",
       "    <tr style=\"text-align: right;\">\n",
       "      <th></th>\n",
       "      <th>Date</th>\n",
       "      <th>Sea_Surface_Temperature</th>\n",
       "      <th>HotSpots</th>\n",
       "      <th>Degree_Heating_Weeks</th>\n",
       "      <th>Bleaching_Alert_Area</th>\n",
       "    </tr>\n",
       "  </thead>\n",
       "  <tbody>\n",
       "    <tr>\n",
       "      <th>10957</th>\n",
       "      <td>01/01/2015</td>\n",
       "      <td>25.48</td>\n",
       "      <td>0.00</td>\n",
       "      <td>0.0000</td>\n",
       "      <td>0</td>\n",
       "    </tr>\n",
       "    <tr>\n",
       "      <th>10958</th>\n",
       "      <td>01/02/2015</td>\n",
       "      <td>25.60</td>\n",
       "      <td>0.00</td>\n",
       "      <td>0.0000</td>\n",
       "      <td>0</td>\n",
       "    </tr>\n",
       "    <tr>\n",
       "      <th>10959</th>\n",
       "      <td>01/03/2015</td>\n",
       "      <td>25.68</td>\n",
       "      <td>0.00</td>\n",
       "      <td>0.0000</td>\n",
       "      <td>0</td>\n",
       "    </tr>\n",
       "    <tr>\n",
       "      <th>10960</th>\n",
       "      <td>01/04/2015</td>\n",
       "      <td>25.61</td>\n",
       "      <td>0.00</td>\n",
       "      <td>0.0000</td>\n",
       "      <td>0</td>\n",
       "    </tr>\n",
       "    <tr>\n",
       "      <th>10961</th>\n",
       "      <td>01/05/2015</td>\n",
       "      <td>25.73</td>\n",
       "      <td>0.00</td>\n",
       "      <td>0.0000</td>\n",
       "      <td>0</td>\n",
       "    </tr>\n",
       "    <tr>\n",
       "      <th>...</th>\n",
       "      <td>...</td>\n",
       "      <td>...</td>\n",
       "      <td>...</td>\n",
       "      <td>...</td>\n",
       "      <td>...</td>\n",
       "    </tr>\n",
       "    <tr>\n",
       "      <th>14781</th>\n",
       "      <td>06/21/2025</td>\n",
       "      <td>30.19</td>\n",
       "      <td>0.42</td>\n",
       "      <td>0.3157</td>\n",
       "      <td>1</td>\n",
       "    </tr>\n",
       "    <tr>\n",
       "      <th>14782</th>\n",
       "      <td>06/22/2025</td>\n",
       "      <td>30.13</td>\n",
       "      <td>0.42</td>\n",
       "      <td>0.3157</td>\n",
       "      <td>1</td>\n",
       "    </tr>\n",
       "    <tr>\n",
       "      <th>14783</th>\n",
       "      <td>06/23/2025</td>\n",
       "      <td>30.00</td>\n",
       "      <td>0.30</td>\n",
       "      <td>0.3157</td>\n",
       "      <td>1</td>\n",
       "    </tr>\n",
       "    <tr>\n",
       "      <th>14784</th>\n",
       "      <td>06/24/2025</td>\n",
       "      <td>30.02</td>\n",
       "      <td>0.18</td>\n",
       "      <td>0.3157</td>\n",
       "      <td>1</td>\n",
       "    </tr>\n",
       "    <tr>\n",
       "      <th>14785</th>\n",
       "      <td>06/25/2025</td>\n",
       "      <td>29.78</td>\n",
       "      <td>0.14</td>\n",
       "      <td>0.3157</td>\n",
       "      <td>1</td>\n",
       "    </tr>\n",
       "  </tbody>\n",
       "</table>\n",
       "<p>3829 rows × 5 columns</p>\n",
       "</div>"
      ],
      "text/plain": [
       "             Date  Sea_Surface_Temperature  HotSpots  Degree_Heating_Weeks  \\\n",
       "10957  01/01/2015                    25.48      0.00                0.0000   \n",
       "10958  01/02/2015                    25.60      0.00                0.0000   \n",
       "10959  01/03/2015                    25.68      0.00                0.0000   \n",
       "10960  01/04/2015                    25.61      0.00                0.0000   \n",
       "10961  01/05/2015                    25.73      0.00                0.0000   \n",
       "...           ...                      ...       ...                   ...   \n",
       "14781  06/21/2025                    30.19      0.42                0.3157   \n",
       "14782  06/22/2025                    30.13      0.42                0.3157   \n",
       "14783  06/23/2025                    30.00      0.30                0.3157   \n",
       "14784  06/24/2025                    30.02      0.18                0.3157   \n",
       "14785  06/25/2025                    29.78      0.14                0.3157   \n",
       "\n",
       "       Bleaching_Alert_Area  \n",
       "10957                     0  \n",
       "10958                     0  \n",
       "10959                     0  \n",
       "10960                     0  \n",
       "10961                     0  \n",
       "...                     ...  \n",
       "14781                     1  \n",
       "14782                     1  \n",
       "14783                     1  \n",
       "14784                     1  \n",
       "14785                     1  \n",
       "\n",
       "[3829 rows x 5 columns]"
      ]
     },
     "execution_count": 150,
     "metadata": {},
     "output_type": "execute_result"
    }
   ],
   "source": [
    "Temps_12"
   ]
  },
  {
   "cell_type": "code",
   "execution_count": 156,
   "id": "302b15df-af45-4946-90ed-0fc28476968f",
   "metadata": {},
   "outputs": [],
   "source": [
    "Temps_Graph = Temps_12[['Date','Sea_Surface_Temperature']]"
   ]
  },
  {
   "cell_type": "code",
   "execution_count": 158,
   "id": "b1a4b58b-6e1f-482f-a78e-031b352f1bc0",
   "metadata": {},
   "outputs": [
    {
     "data": {
      "text/html": [
       "<div>\n",
       "<style scoped>\n",
       "    .dataframe tbody tr th:only-of-type {\n",
       "        vertical-align: middle;\n",
       "    }\n",
       "\n",
       "    .dataframe tbody tr th {\n",
       "        vertical-align: top;\n",
       "    }\n",
       "\n",
       "    .dataframe thead th {\n",
       "        text-align: right;\n",
       "    }\n",
       "</style>\n",
       "<table border=\"1\" class=\"dataframe\">\n",
       "  <thead>\n",
       "    <tr style=\"text-align: right;\">\n",
       "      <th></th>\n",
       "      <th>Date</th>\n",
       "      <th>Sea_Surface_Temperature</th>\n",
       "    </tr>\n",
       "  </thead>\n",
       "  <tbody>\n",
       "    <tr>\n",
       "      <th>10957</th>\n",
       "      <td>01/01/2015</td>\n",
       "      <td>25.48</td>\n",
       "    </tr>\n",
       "    <tr>\n",
       "      <th>10958</th>\n",
       "      <td>01/02/2015</td>\n",
       "      <td>25.60</td>\n",
       "    </tr>\n",
       "    <tr>\n",
       "      <th>10959</th>\n",
       "      <td>01/03/2015</td>\n",
       "      <td>25.68</td>\n",
       "    </tr>\n",
       "    <tr>\n",
       "      <th>10960</th>\n",
       "      <td>01/04/2015</td>\n",
       "      <td>25.61</td>\n",
       "    </tr>\n",
       "    <tr>\n",
       "      <th>10961</th>\n",
       "      <td>01/05/2015</td>\n",
       "      <td>25.73</td>\n",
       "    </tr>\n",
       "    <tr>\n",
       "      <th>...</th>\n",
       "      <td>...</td>\n",
       "      <td>...</td>\n",
       "    </tr>\n",
       "    <tr>\n",
       "      <th>14781</th>\n",
       "      <td>06/21/2025</td>\n",
       "      <td>30.19</td>\n",
       "    </tr>\n",
       "    <tr>\n",
       "      <th>14782</th>\n",
       "      <td>06/22/2025</td>\n",
       "      <td>30.13</td>\n",
       "    </tr>\n",
       "    <tr>\n",
       "      <th>14783</th>\n",
       "      <td>06/23/2025</td>\n",
       "      <td>30.00</td>\n",
       "    </tr>\n",
       "    <tr>\n",
       "      <th>14784</th>\n",
       "      <td>06/24/2025</td>\n",
       "      <td>30.02</td>\n",
       "    </tr>\n",
       "    <tr>\n",
       "      <th>14785</th>\n",
       "      <td>06/25/2025</td>\n",
       "      <td>29.78</td>\n",
       "    </tr>\n",
       "  </tbody>\n",
       "</table>\n",
       "<p>3829 rows × 2 columns</p>\n",
       "</div>"
      ],
      "text/plain": [
       "             Date  Sea_Surface_Temperature\n",
       "10957  01/01/2015                    25.48\n",
       "10958  01/02/2015                    25.60\n",
       "10959  01/03/2015                    25.68\n",
       "10960  01/04/2015                    25.61\n",
       "10961  01/05/2015                    25.73\n",
       "...           ...                      ...\n",
       "14781  06/21/2025                    30.19\n",
       "14782  06/22/2025                    30.13\n",
       "14783  06/23/2025                    30.00\n",
       "14784  06/24/2025                    30.02\n",
       "14785  06/25/2025                    29.78\n",
       "\n",
       "[3829 rows x 2 columns]"
      ]
     },
     "execution_count": 158,
     "metadata": {},
     "output_type": "execute_result"
    }
   ],
   "source": [
    "Temps_Graph"
   ]
  },
  {
   "cell_type": "code",
   "execution_count": 181,
   "id": "7459019f-500f-452c-9de7-0d6f9812aa77",
   "metadata": {},
   "outputs": [],
   "source": [
    "import matplotlib.pyplot as plt\n",
    "import seaborn as sns"
   ]
  },
  {
   "cell_type": "code",
   "execution_count": 211,
   "id": "aee70816-539c-4461-944d-474d07eda476",
   "metadata": {
    "scrolled": true
   },
   "outputs": [
    {
     "data": {
      "text/plain": [
       "10957   2015-01-01\n",
       "10958   2015-01-02\n",
       "10959   2015-01-03\n",
       "10960   2015-01-04\n",
       "10961   2015-01-05\n",
       "           ...    \n",
       "14781   2025-06-21\n",
       "14782   2025-06-22\n",
       "14783   2025-06-23\n",
       "14784   2025-06-24\n",
       "14785   2025-06-25\n",
       "Name: Date, Length: 3829, dtype: datetime64[ns]"
      ]
     },
     "execution_count": 211,
     "metadata": {},
     "output_type": "execute_result"
    }
   ],
   "source": [
    "pd.to_datetime(Temps_Graph['Date'], format='%Y/%m/%d')"
   ]
  },
  {
   "cell_type": "code",
   "execution_count": 219,
   "id": "cca65a1a-e81c-41d1-8625-9085c41b26f8",
   "metadata": {},
   "outputs": [
    {
     "data": {
      "text/plain": [
       "<bound method Series.info of 10957   2015-01-01\n",
       "10958   2015-01-02\n",
       "10959   2015-01-03\n",
       "10960   2015-01-04\n",
       "10961   2015-01-05\n",
       "           ...    \n",
       "14781   2025-06-21\n",
       "14782   2025-06-22\n",
       "14783   2025-06-23\n",
       "14784   2025-06-24\n",
       "14785   2025-06-25\n",
       "Name: Date, Length: 3829, dtype: datetime64[ns]>"
      ]
     },
     "execution_count": 219,
     "metadata": {},
     "output_type": "execute_result"
    }
   ],
   "source": [
    "Temps_Graph['Date'].info"
   ]
  },
  {
   "cell_type": "code",
   "execution_count": 231,
   "id": "6d520446-5a7a-4b68-be65-a3e50492892d",
   "metadata": {},
   "outputs": [
    {
     "data": {
      "text/plain": [
       "<Axes: xlabel='Date', ylabel='Sea_Surface_Temperature'>"
      ]
     },
     "execution_count": 231,
     "metadata": {},
     "output_type": "execute_result"
    },
    {
     "data": {
      "image/png": "[encoded data removed]",
      "text/plain": [
       "<Figure size 1000x500 with 1 Axes>"
      ]
     },
     "metadata": {},
     "output_type": "display_data"
    }
   ],
   "source": [
    "plt.figure(figsize=(10,5))\n",
    "# plt.plot(Temps_Graph['Date'], Temps_Graph['Sea_Surface_Temperature'], label = '10 Year Temps', color='blue')\n",
    "sns.lineplot(data=Temps_Graph, x = Temps_Graph.Date, y='Sea_Surface_Temperature')"
   ]
  },
  {
   "cell_type": "code",
   "execution_count": 279,
   "id": "20a3a85e-efea-40bb-adaa-ace3388fc29d",
   "metadata": {},
   "outputs": [
    {
     "data": {
      "text/plain": [
       "Date\n",
       "2015-01-01    25.48\n",
       "2015-01-02    25.60\n",
       "2015-01-03    25.68\n",
       "2015-01-04    25.61\n",
       "2015-01-05    25.73\n",
       "              ...  \n",
       "2025-06-21    30.19\n",
       "2025-06-22    30.13\n",
       "2025-06-23    30.00\n",
       "2025-06-24    30.02\n",
       "2025-06-25    29.78\n",
       "Name: Sea_Surface_Temperature, Length: 3829, dtype: float64"
      ]
     },
     "execution_count": 279,
     "metadata": {},
     "output_type": "execute_result"
    }
   ],
   "source": [
    "Temps_Graph['Sea_Surface_Temperature']\n"
   ]
  },
  {
   "cell_type": "code",
   "execution_count": 267,
   "id": "da81aa04-c1a1-445f-9949-9abd3940adc4",
   "metadata": {},
   "outputs": [],
   "source": [
    "DTemps_Graph"
   ]
  },
  {
   "cell_type": "markdown",
   "id": "7f96109d-410d-4e82-9ade-31d28ada4940",
   "metadata": {},
   "source": [
    "## "
   ]
  }
 ],
 "metadata": {
  "kernelspec": {
   "display_name": "Python [conda env:base] *",
   "language": "python",
   "name": "conda-base-py"
  },
  "language_info": {
   "codemirror_mode": {
    "name": "ipython",
    "version": 3
   },
   "file_extension": ".py",
   "mimetype": "text/x-python",
   "name": "python",
   "nbconvert_exporter": "python",
   "pygments_lexer": "ipython3",
   "version": "3.12.3"
  }
 },
 "nbformat": 4,
 "nbformat_minor": 5
}
