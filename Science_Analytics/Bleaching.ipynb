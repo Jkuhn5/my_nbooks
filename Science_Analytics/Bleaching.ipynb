{
 "cells": [
  {
   "cell_type": "markdown",
   "id": "ddb79346-bf29-4d1f-8c8c-4071eb0986b2",
   "metadata": {},
   "source": [
    "# Florida Keys 10 Year Ocean Temperature Analysis"
   ]
  },
  {
   "cell_type": "markdown",
   "id": "36ba22da-707f-467f-bf02-fbc75a4acda5",
   "metadata": {},
   "source": [
    "## by Jacob Kuhn"
   ]
  },
  {
   "cell_type": "markdown",
   "id": "84728248-1521-41c9-812c-a6bfdc80df0c",
   "metadata": {},
   "source": [
    "Data sources are from the NOAA Classroom Interactive Lab assignment and the attached Florida Keys Temperature Data."
   ]
  },
  {
   "cell_type": "code",
   "execution_count": 4,
   "id": "14665505-9441-419f-9f43-2513e29ada10",
   "metadata": {},
   "outputs": [],
   "source": [
    "import pandas as pd"
   ]
  },
  {
   "cell_type": "code",
   "execution_count": 5,
   "id": "96bee3fa-3938-4078-97c9-ca9d7cfef626",
   "metadata": {},
   "outputs": [],
   "source": [
    "Temps = pd.read_csv('Florida_Keys.csv')"
   ]
  },
  {
   "cell_type": "code",
   "execution_count": 6,
   "id": "9d571aeb-55d5-4461-8334-5360deac53e3",
   "metadata": {},
   "outputs": [
    {
     "data": {
      "text/plain": [
       "<bound method NDFrame.head of              Date  Latitude  Longitude  Sea_Surface_Temperature  HotSpots  \\\n",
       "0      01/01/1985     24.75    -81.625                    24.96      0.00   \n",
       "1      01/02/1985     24.75    -81.625                    24.95      0.00   \n",
       "2      01/03/1985     24.75    -81.625                    24.98      0.00   \n",
       "3      01/04/1985     24.75    -81.625                    24.63      0.00   \n",
       "4      01/05/1985     24.75    -81.625                    24.35      0.00   \n",
       "...           ...       ...        ...                      ...       ...   \n",
       "14781  06/21/2025     24.75    -81.625                    30.19      0.42   \n",
       "14782  06/22/2025     24.75    -81.625                    30.13      0.42   \n",
       "14783  06/23/2025     24.75    -81.625                    30.00      0.30   \n",
       "14784  06/24/2025     24.75    -81.625                    30.02      0.18   \n",
       "14785  06/25/2025     24.75    -81.625                    29.78      0.14   \n",
       "\n",
       "       Degree_Heating_Weeks  Bleaching_Alert_Area  \n",
       "0                    0.0000                     0  \n",
       "1                    0.0000                     0  \n",
       "2                    0.0000                     0  \n",
       "3                    0.0000                     0  \n",
       "4                    0.0000                     0  \n",
       "...                     ...                   ...  \n",
       "14781                0.3157                     1  \n",
       "14782                0.3157                     1  \n",
       "14783                0.3157                     1  \n",
       "14784                0.3157                     1  \n",
       "14785                0.3157                     1  \n",
       "\n",
       "[14786 rows x 7 columns]>"
      ]
     },
     "execution_count": 6,
     "metadata": {},
     "output_type": "execute_result"
    }
   ],
   "source": [
    "Temps.head"
   ]
  },
  {
   "cell_type": "code",
   "execution_count": 7,
   "id": "d41edc56-f4b8-4419-bdd7-f4e48302fd24",
   "metadata": {},
   "outputs": [
    {
     "data": {
      "text/plain": [
       "<bound method Series.info of 0        01/01/1985\n",
       "1        01/02/1985\n",
       "2        01/03/1985\n",
       "3        01/04/1985\n",
       "4        01/05/1985\n",
       "            ...    \n",
       "14781    06/21/2025\n",
       "14782    06/22/2025\n",
       "14783    06/23/2025\n",
       "14784    06/24/2025\n",
       "14785    06/25/2025\n",
       "Name: Date, Length: 14786, dtype: object>"
      ]
     },
     "execution_count": 7,
     "metadata": {},
     "output_type": "execute_result"
    }
   ],
   "source": [
    "Temps.Date.info"
   ]
  },
  {
   "cell_type": "code",
   "execution_count": 8,
   "id": "adbb7a08-7309-4816-87c0-dcf850377387",
   "metadata": {},
   "outputs": [
    {
     "data": {
      "text/plain": [
       "'01/01/2015'"
      ]
     },
     "execution_count": 8,
     "metadata": {},
     "output_type": "execute_result"
    }
   ],
   "source": [
    "Temps['Date'][10957]"
   ]
  },
  {
   "cell_type": "code",
   "execution_count": 9,
   "id": "72b61307-130e-49a9-b790-fc79ebc1162c",
   "metadata": {},
   "outputs": [],
   "source": [
    "Temps_10 = Temps[10957:14786]"
   ]
  },
  {
   "cell_type": "code",
   "execution_count": 10,
   "id": "0091d131-4b98-46f1-a0de-6378ea4726a3",
   "metadata": {},
   "outputs": [
    {
     "data": {
      "text/plain": [
       "<bound method NDFrame.head of              Date  Latitude  Longitude  Sea_Surface_Temperature  HotSpots  \\\n",
       "10957  01/01/2015     24.75    -81.625                    25.48      0.00   \n",
       "10958  01/02/2015     24.75    -81.625                    25.60      0.00   \n",
       "10959  01/03/2015     24.75    -81.625                    25.68      0.00   \n",
       "10960  01/04/2015     24.75    -81.625                    25.61      0.00   \n",
       "10961  01/05/2015     24.75    -81.625                    25.73      0.00   \n",
       "...           ...       ...        ...                      ...       ...   \n",
       "14781  06/21/2025     24.75    -81.625                    30.19      0.42   \n",
       "14782  06/22/2025     24.75    -81.625                    30.13      0.42   \n",
       "14783  06/23/2025     24.75    -81.625                    30.00      0.30   \n",
       "14784  06/24/2025     24.75    -81.625                    30.02      0.18   \n",
       "14785  06/25/2025     24.75    -81.625                    29.78      0.14   \n",
       "\n",
       "       Degree_Heating_Weeks  Bleaching_Alert_Area  \n",
       "10957                0.0000                     0  \n",
       "10958                0.0000                     0  \n",
       "10959                0.0000                     0  \n",
       "10960                0.0000                     0  \n",
       "10961                0.0000                     0  \n",
       "...                     ...                   ...  \n",
       "14781                0.3157                     1  \n",
       "14782                0.3157                     1  \n",
       "14783                0.3157                     1  \n",
       "14784                0.3157                     1  \n",
       "14785                0.3157                     1  \n",
       "\n",
       "[3829 rows x 7 columns]>"
      ]
     },
     "execution_count": 10,
     "metadata": {},
     "output_type": "execute_result"
    }
   ],
   "source": [
    "Temps_10.head"
   ]
  },
  {
   "cell_type": "code",
   "execution_count": 11,
   "id": "42a5f216-805e-4185-9e0e-cb541dab99c7",
   "metadata": {},
   "outputs": [],
   "source": [
    "Temps_11 = Temps_10.drop('Latitude', axis=1, inplace=False)"
   ]
  },
  {
   "cell_type": "code",
   "execution_count": 12,
   "id": "9c2654dc-7c59-4a3a-8dcf-6f86370d7155",
   "metadata": {
    "jupyter": {
     "source_hidden": true
    }
   },
   "outputs": [],
   "source": [
    "Temps_12 = Temps_11.drop('Longitude', axis=1, inplace=False)"
   ]
  },
  {
   "cell_type": "code",
   "execution_count": 13,
   "id": "d32350ed-b4b1-4e0f-a611-3ca2cd18445c",
   "metadata": {},
   "outputs": [
    {
     "data": {
      "text/html": [
       "<div>\n",
       "<style scoped>\n",
       "    .dataframe tbody tr th:only-of-type {\n",
       "        vertical-align: middle;\n",
       "    }\n",
       "\n",
       "    .dataframe tbody tr th {\n",
       "        vertical-align: top;\n",
       "    }\n",
       "\n",
       "    .dataframe thead th {\n",
       "        text-align: right;\n",
       "    }\n",
       "</style>\n",
       "<table border=\"1\" class=\"dataframe\">\n",
       "  <thead>\n",
       "    <tr style=\"text-align: right;\">\n",
       "      <th></th>\n",
       "      <th>Date</th>\n",
       "      <th>Sea_Surface_Temperature</th>\n",
       "      <th>HotSpots</th>\n",
       "      <th>Degree_Heating_Weeks</th>\n",
       "      <th>Bleaching_Alert_Area</th>\n",
       "    </tr>\n",
       "  </thead>\n",
       "  <tbody>\n",
       "    <tr>\n",
       "      <th>10957</th>\n",
       "      <td>01/01/2015</td>\n",
       "      <td>25.48</td>\n",
       "      <td>0.00</td>\n",
       "      <td>0.0000</td>\n",
       "      <td>0</td>\n",
       "    </tr>\n",
       "    <tr>\n",
       "      <th>10958</th>\n",
       "      <td>01/02/2015</td>\n",
       "      <td>25.60</td>\n",
       "      <td>0.00</td>\n",
       "      <td>0.0000</td>\n",
       "      <td>0</td>\n",
       "    </tr>\n",
       "    <tr>\n",
       "      <th>10959</th>\n",
       "      <td>01/03/2015</td>\n",
       "      <td>25.68</td>\n",
       "      <td>0.00</td>\n",
       "      <td>0.0000</td>\n",
       "      <td>0</td>\n",
       "    </tr>\n",
       "    <tr>\n",
       "      <th>10960</th>\n",
       "      <td>01/04/2015</td>\n",
       "      <td>25.61</td>\n",
       "      <td>0.00</td>\n",
       "      <td>0.0000</td>\n",
       "      <td>0</td>\n",
       "    </tr>\n",
       "    <tr>\n",
       "      <th>10961</th>\n",
       "      <td>01/05/2015</td>\n",
       "      <td>25.73</td>\n",
       "      <td>0.00</td>\n",
       "      <td>0.0000</td>\n",
       "      <td>0</td>\n",
       "    </tr>\n",
       "    <tr>\n",
       "      <th>...</th>\n",
       "      <td>...</td>\n",
       "      <td>...</td>\n",
       "      <td>...</td>\n",
       "      <td>...</td>\n",
       "      <td>...</td>\n",
       "    </tr>\n",
       "    <tr>\n",
       "      <th>14781</th>\n",
       "      <td>06/21/2025</td>\n",
       "      <td>30.19</td>\n",
       "      <td>0.42</td>\n",
       "      <td>0.3157</td>\n",
       "      <td>1</td>\n",
       "    </tr>\n",
       "    <tr>\n",
       "      <th>14782</th>\n",
       "      <td>06/22/2025</td>\n",
       "      <td>30.13</td>\n",
       "      <td>0.42</td>\n",
       "      <td>0.3157</td>\n",
       "      <td>1</td>\n",
       "    </tr>\n",
       "    <tr>\n",
       "      <th>14783</th>\n",
       "      <td>06/23/2025</td>\n",
       "      <td>30.00</td>\n",
       "      <td>0.30</td>\n",
       "      <td>0.3157</td>\n",
       "      <td>1</td>\n",
       "    </tr>\n",
       "    <tr>\n",
       "      <th>14784</th>\n",
       "      <td>06/24/2025</td>\n",
       "      <td>30.02</td>\n",
       "      <td>0.18</td>\n",
       "      <td>0.3157</td>\n",
       "      <td>1</td>\n",
       "    </tr>\n",
       "    <tr>\n",
       "      <th>14785</th>\n",
       "      <td>06/25/2025</td>\n",
       "      <td>29.78</td>\n",
       "      <td>0.14</td>\n",
       "      <td>0.3157</td>\n",
       "      <td>1</td>\n",
       "    </tr>\n",
       "  </tbody>\n",
       "</table>\n",
       "<p>3829 rows × 5 columns</p>\n",
       "</div>"
      ],
      "text/plain": [
       "             Date  Sea_Surface_Temperature  HotSpots  Degree_Heating_Weeks  \\\n",
       "10957  01/01/2015                    25.48      0.00                0.0000   \n",
       "10958  01/02/2015                    25.60      0.00                0.0000   \n",
       "10959  01/03/2015                    25.68      0.00                0.0000   \n",
       "10960  01/04/2015                    25.61      0.00                0.0000   \n",
       "10961  01/05/2015                    25.73      0.00                0.0000   \n",
       "...           ...                      ...       ...                   ...   \n",
       "14781  06/21/2025                    30.19      0.42                0.3157   \n",
       "14782  06/22/2025                    30.13      0.42                0.3157   \n",
       "14783  06/23/2025                    30.00      0.30                0.3157   \n",
       "14784  06/24/2025                    30.02      0.18                0.3157   \n",
       "14785  06/25/2025                    29.78      0.14                0.3157   \n",
       "\n",
       "       Bleaching_Alert_Area  \n",
       "10957                     0  \n",
       "10958                     0  \n",
       "10959                     0  \n",
       "10960                     0  \n",
       "10961                     0  \n",
       "...                     ...  \n",
       "14781                     1  \n",
       "14782                     1  \n",
       "14783                     1  \n",
       "14784                     1  \n",
       "14785                     1  \n",
       "\n",
       "[3829 rows x 5 columns]"
      ]
     },
     "execution_count": 13,
     "metadata": {},
     "output_type": "execute_result"
    }
   ],
   "source": [
    "Temps_12"
   ]
  },
  {
   "cell_type": "code",
   "execution_count": 14,
   "id": "302b15df-af45-4946-90ed-0fc28476968f",
   "metadata": {},
   "outputs": [],
   "source": [
    "Temps_Graph = Temps_12[['Date','Sea_Surface_Temperature']]"
   ]
  },
  {
   "cell_type": "code",
   "execution_count": 15,
   "id": "b1a4b58b-6e1f-482f-a78e-031b352f1bc0",
   "metadata": {},
   "outputs": [
    {
     "data": {
      "text/html": [
       "<div>\n",
       "<style scoped>\n",
       "    .dataframe tbody tr th:only-of-type {\n",
       "        vertical-align: middle;\n",
       "    }\n",
       "\n",
       "    .dataframe tbody tr th {\n",
       "        vertical-align: top;\n",
       "    }\n",
       "\n",
       "    .dataframe thead th {\n",
       "        text-align: right;\n",
       "    }\n",
       "</style>\n",
       "<table border=\"1\" class=\"dataframe\">\n",
       "  <thead>\n",
       "    <tr style=\"text-align: right;\">\n",
       "      <th></th>\n",
       "      <th>Date</th>\n",
       "      <th>Sea_Surface_Temperature</th>\n",
       "    </tr>\n",
       "  </thead>\n",
       "  <tbody>\n",
       "    <tr>\n",
       "      <th>10957</th>\n",
       "      <td>01/01/2015</td>\n",
       "      <td>25.48</td>\n",
       "    </tr>\n",
       "    <tr>\n",
       "      <th>10958</th>\n",
       "      <td>01/02/2015</td>\n",
       "      <td>25.60</td>\n",
       "    </tr>\n",
       "    <tr>\n",
       "      <th>10959</th>\n",
       "      <td>01/03/2015</td>\n",
       "      <td>25.68</td>\n",
       "    </tr>\n",
       "    <tr>\n",
       "      <th>10960</th>\n",
       "      <td>01/04/2015</td>\n",
       "      <td>25.61</td>\n",
       "    </tr>\n",
       "    <tr>\n",
       "      <th>10961</th>\n",
       "      <td>01/05/2015</td>\n",
       "      <td>25.73</td>\n",
       "    </tr>\n",
       "    <tr>\n",
       "      <th>...</th>\n",
       "      <td>...</td>\n",
       "      <td>...</td>\n",
       "    </tr>\n",
       "    <tr>\n",
       "      <th>14781</th>\n",
       "      <td>06/21/2025</td>\n",
       "      <td>30.19</td>\n",
       "    </tr>\n",
       "    <tr>\n",
       "      <th>14782</th>\n",
       "      <td>06/22/2025</td>\n",
       "      <td>30.13</td>\n",
       "    </tr>\n",
       "    <tr>\n",
       "      <th>14783</th>\n",
       "      <td>06/23/2025</td>\n",
       "      <td>30.00</td>\n",
       "    </tr>\n",
       "    <tr>\n",
       "      <th>14784</th>\n",
       "      <td>06/24/2025</td>\n",
       "      <td>30.02</td>\n",
       "    </tr>\n",
       "    <tr>\n",
       "      <th>14785</th>\n",
       "      <td>06/25/2025</td>\n",
       "      <td>29.78</td>\n",
       "    </tr>\n",
       "  </tbody>\n",
       "</table>\n",
       "<p>3829 rows × 2 columns</p>\n",
       "</div>"
      ],
      "text/plain": [
       "             Date  Sea_Surface_Temperature\n",
       "10957  01/01/2015                    25.48\n",
       "10958  01/02/2015                    25.60\n",
       "10959  01/03/2015                    25.68\n",
       "10960  01/04/2015                    25.61\n",
       "10961  01/05/2015                    25.73\n",
       "...           ...                      ...\n",
       "14781  06/21/2025                    30.19\n",
       "14782  06/22/2025                    30.13\n",
       "14783  06/23/2025                    30.00\n",
       "14784  06/24/2025                    30.02\n",
       "14785  06/25/2025                    29.78\n",
       "\n",
       "[3829 rows x 2 columns]"
      ]
     },
     "execution_count": 15,
     "metadata": {},
     "output_type": "execute_result"
    }
   ],
   "source": [
    "Temps_Graph"
   ]
  },
  {
   "cell_type": "code",
   "execution_count": 16,
   "id": "7459019f-500f-452c-9de7-0d6f9812aa77",
   "metadata": {},
   "outputs": [],
   "source": [
    "import matplotlib.pyplot as plt\n",
    "import seaborn as sns"
   ]
  },
  {
   "cell_type": "code",
   "execution_count": 17,
   "id": "aee70816-539c-4461-944d-474d07eda476",
   "metadata": {
    "scrolled": true
   },
   "outputs": [
    {
     "name": "stderr",
     "output_type": "stream",
     "text": [
      "C:\\Users\\TempK\\AppData\\Local\\Temp\\ipykernel_21900\\1992548086.py:1: SettingWithCopyWarning: \n",
      "A value is trying to be set on a copy of a slice from a DataFrame.\n",
      "Try using .loc[row_indexer,col_indexer] = value instead\n",
      "\n",
      "See the caveats in the documentation: https://pandas.pydata.org/pandas-docs/stable/user_guide/indexing.html#returning-a-view-versus-a-copy\n",
      "  Temps_Graph['Date'] = pd.to_datetime(Temps_Graph['Date'], format='%m/%d/%Y')\n"
     ]
    }
   ],
   "source": [
    "Temps_Graph['Date'] = pd.to_datetime(Temps_Graph['Date'], format='%m/%d/%Y')"
   ]
  },
  {
   "cell_type": "code",
   "execution_count": 18,
   "id": "cca65a1a-e81c-41d1-8625-9085c41b26f8",
   "metadata": {},
   "outputs": [
    {
     "data": {
      "text/plain": [
       "<bound method DataFrame.info of             Date  Sea_Surface_Temperature\n",
       "10957 2015-01-01                    25.48\n",
       "10958 2015-01-02                    25.60\n",
       "10959 2015-01-03                    25.68\n",
       "10960 2015-01-04                    25.61\n",
       "10961 2015-01-05                    25.73\n",
       "...          ...                      ...\n",
       "14781 2025-06-21                    30.19\n",
       "14782 2025-06-22                    30.13\n",
       "14783 2025-06-23                    30.00\n",
       "14784 2025-06-24                    30.02\n",
       "14785 2025-06-25                    29.78\n",
       "\n",
       "[3829 rows x 2 columns]>"
      ]
     },
     "execution_count": 18,
     "metadata": {},
     "output_type": "execute_result"
    }
   ],
   "source": [
    "Temps_Graph.info"
   ]
  },
  {
   "cell_type": "code",
   "execution_count": 71,
   "id": "6d520446-5a7a-4b68-be65-a3e50492892d",
   "metadata": {},
   "outputs": [
    {
     "data": {
      "text/plain": [
       "<matplotlib.lines.Line2D at 0x15ad586c3b0>"
      ]
     },
     "execution_count": 71,
     "metadata": {},
     "output_type": "execute_result"
    },
    {
     "data": {
      "image/png": "[encoded data removed]",
      "text/plain": [
       "<Figure size 1000x500 with 1 Axes>"
      ]
     },
     "metadata": {},
     "output_type": "display_data"
    }
   ],
   "source": [
    "plt.figure(figsize=(10,5))\n",
    "# plt.plot(Temps_Graph['Date'], Temps_Graph['Sea_Surface_Temperature'], label = '10 Year Temps', color='blue')\n",
    "sns.lineplot(data=Temps_Graph, x = Temps_Graph.Date, y='Sea_Surface_Temperature')\n",
    "plt.axhline(y=29.63, color='red', linestyle='--', linewidth=1.5)"
   ]
  },
  {
   "cell_type": "code",
   "execution_count": 20,
   "id": "20a3a85e-efea-40bb-adaa-ace3388fc29d",
   "metadata": {},
   "outputs": [
    {
     "data": {
      "text/plain": [
       "10957    25.48\n",
       "10958    25.60\n",
       "10959    25.68\n",
       "10960    25.61\n",
       "10961    25.73\n",
       "         ...  \n",
       "14781    30.19\n",
       "14782    30.13\n",
       "14783    30.00\n",
       "14784    30.02\n",
       "14785    29.78\n",
       "Name: Sea_Surface_Temperature, Length: 3829, dtype: float64"
      ]
     },
     "execution_count": 20,
     "metadata": {},
     "output_type": "execute_result"
    }
   ],
   "source": [
    "Temps_Graph['Sea_Surface_Temperature']\n"
   ]
  },
  {
   "cell_type": "code",
   "execution_count": 21,
   "id": "da81aa04-c1a1-445f-9949-9abd3940adc4",
   "metadata": {},
   "outputs": [],
   "source": [
    "Bad_Temps = Temps_Graph[Temps_Graph['Sea_Surface_Temperature'] > 29.63]"
   ]
  },
  {
   "cell_type": "code",
   "execution_count": 22,
   "id": "07a4e87c-ef7b-46d7-be7a-63e8e5740783",
   "metadata": {},
   "outputs": [
    {
     "data": {
      "text/html": [
       "<div>\n",
       "<style scoped>\n",
       "    .dataframe tbody tr th:only-of-type {\n",
       "        vertical-align: middle;\n",
       "    }\n",
       "\n",
       "    .dataframe tbody tr th {\n",
       "        vertical-align: top;\n",
       "    }\n",
       "\n",
       "    .dataframe thead th {\n",
       "        text-align: right;\n",
       "    }\n",
       "</style>\n",
       "<table border=\"1\" class=\"dataframe\">\n",
       "  <thead>\n",
       "    <tr style=\"text-align: right;\">\n",
       "      <th></th>\n",
       "      <th>Date</th>\n",
       "      <th>Sea_Surface_Temperature</th>\n",
       "    </tr>\n",
       "  </thead>\n",
       "  <tbody>\n",
       "    <tr>\n",
       "      <th>11099</th>\n",
       "      <td>2015-05-23</td>\n",
       "      <td>29.64</td>\n",
       "    </tr>\n",
       "    <tr>\n",
       "      <th>11127</th>\n",
       "      <td>2015-06-20</td>\n",
       "      <td>29.87</td>\n",
       "    </tr>\n",
       "    <tr>\n",
       "      <th>11128</th>\n",
       "      <td>2015-06-21</td>\n",
       "      <td>30.19</td>\n",
       "    </tr>\n",
       "    <tr>\n",
       "      <th>11129</th>\n",
       "      <td>2015-06-22</td>\n",
       "      <td>30.29</td>\n",
       "    </tr>\n",
       "    <tr>\n",
       "      <th>11130</th>\n",
       "      <td>2015-06-23</td>\n",
       "      <td>30.34</td>\n",
       "    </tr>\n",
       "    <tr>\n",
       "      <th>...</th>\n",
       "      <td>...</td>\n",
       "      <td>...</td>\n",
       "    </tr>\n",
       "    <tr>\n",
       "      <th>14781</th>\n",
       "      <td>2025-06-21</td>\n",
       "      <td>30.19</td>\n",
       "    </tr>\n",
       "    <tr>\n",
       "      <th>14782</th>\n",
       "      <td>2025-06-22</td>\n",
       "      <td>30.13</td>\n",
       "    </tr>\n",
       "    <tr>\n",
       "      <th>14783</th>\n",
       "      <td>2025-06-23</td>\n",
       "      <td>30.00</td>\n",
       "    </tr>\n",
       "    <tr>\n",
       "      <th>14784</th>\n",
       "      <td>2025-06-24</td>\n",
       "      <td>30.02</td>\n",
       "    </tr>\n",
       "    <tr>\n",
       "      <th>14785</th>\n",
       "      <td>2025-06-25</td>\n",
       "      <td>29.78</td>\n",
       "    </tr>\n",
       "  </tbody>\n",
       "</table>\n",
       "<p>1110 rows × 2 columns</p>\n",
       "</div>"
      ],
      "text/plain": [
       "            Date  Sea_Surface_Temperature\n",
       "11099 2015-05-23                    29.64\n",
       "11127 2015-06-20                    29.87\n",
       "11128 2015-06-21                    30.19\n",
       "11129 2015-06-22                    30.29\n",
       "11130 2015-06-23                    30.34\n",
       "...          ...                      ...\n",
       "14781 2025-06-21                    30.19\n",
       "14782 2025-06-22                    30.13\n",
       "14783 2025-06-23                    30.00\n",
       "14784 2025-06-24                    30.02\n",
       "14785 2025-06-25                    29.78\n",
       "\n",
       "[1110 rows x 2 columns]"
      ]
     },
     "execution_count": 22,
     "metadata": {},
     "output_type": "execute_result"
    }
   ],
   "source": [
    "Bad_Temps"
   ]
  },
  {
   "cell_type": "code",
   "execution_count": 23,
   "id": "e35be497-0ee6-4a3e-8459-bbe2e5b15253",
   "metadata": {},
   "outputs": [
    {
     "name": "stdout",
     "output_type": "stream",
     "text": [
      "            Date  Sea_Surface_Temperature   Dif\n",
      "11099 2015-05-23                    29.64  0.01\n",
      "11127 2015-06-20                    29.87  0.24\n",
      "11128 2015-06-21                    30.19  0.56\n",
      "11129 2015-06-22                    30.29  0.66\n",
      "11130 2015-06-23                    30.34  0.71\n",
      "...          ...                      ...   ...\n",
      "11225 2015-09-26                    30.07  0.44\n",
      "11226 2015-09-27                    29.94  0.31\n",
      "11227 2015-09-28                    29.83  0.20\n",
      "11228 2015-09-29                    29.68  0.05\n",
      "11230 2015-10-01                    29.69  0.06\n",
      "\n",
      "[104 rows x 3 columns]\n",
      "Total Accumulated Heat Stress: 100.86000000000011\n"
     ]
    },
    {
     "name": "stderr",
     "output_type": "stream",
     "text": [
      "C:\\Users\\TempK\\AppData\\Local\\Temp\\ipykernel_21900\\4193248382.py:2: SettingWithCopyWarning: \n",
      "A value is trying to be set on a copy of a slice from a DataFrame.\n",
      "Try using .loc[row_indexer,col_indexer] = value instead\n",
      "\n",
      "See the caveats in the documentation: https://pandas.pydata.org/pandas-docs/stable/user_guide/indexing.html#returning-a-view-versus-a-copy\n",
      "  Bad_Temps_2015['Dif'] = Bad_Temps_2015['Sea_Surface_Temperature'] - 29.63\n"
     ]
    }
   ],
   "source": [
    "Bad_Temps_2015 = Bad_Temps[Bad_Temps['Date'].dt.year == 2015]\n",
    "Bad_Temps_2015['Dif'] = Bad_Temps_2015['Sea_Surface_Temperature'] - 29.63\n",
    "print(Bad_Temps_2015)\n",
    "Total_A_2015 = Bad_Temps_2015['Dif'].sum()\n",
    "print('Total Accumulated Heat Stress:', Total_A_2015)"
   ]
  },
  {
   "cell_type": "code",
   "execution_count": 24,
   "id": "757072fe-5978-44ed-9ecd-372e1c8dffbf",
   "metadata": {},
   "outputs": [
    {
     "name": "stdout",
     "output_type": "stream",
     "text": [
      "            Date  Sea_Surface_Temperature   Dif\n",
      "11476 2016-06-03                    29.69  0.06\n",
      "11485 2016-06-12                    29.70  0.07\n",
      "11486 2016-06-13                    29.79  0.16\n",
      "11487 2016-06-14                    30.02  0.39\n",
      "11488 2016-06-15                    30.41  0.78\n",
      "...          ...                      ...   ...\n",
      "11593 2016-09-28                    30.02  0.39\n",
      "11594 2016-09-29                    30.08  0.45\n",
      "11595 2016-09-30                    29.95  0.32\n",
      "11596 2016-10-01                    29.85  0.22\n",
      "11597 2016-10-02                    29.76  0.13\n",
      "\n",
      "[99 rows x 3 columns]\n",
      "Total Accumulated Heat Stress: 75.42000000000007\n"
     ]
    },
    {
     "name": "stderr",
     "output_type": "stream",
     "text": [
      "C:\\Users\\TempK\\AppData\\Local\\Temp\\ipykernel_21900\\4015833261.py:2: SettingWithCopyWarning: \n",
      "A value is trying to be set on a copy of a slice from a DataFrame.\n",
      "Try using .loc[row_indexer,col_indexer] = value instead\n",
      "\n",
      "See the caveats in the documentation: https://pandas.pydata.org/pandas-docs/stable/user_guide/indexing.html#returning-a-view-versus-a-copy\n",
      "  Bad_Temps_2016['Dif'] = Bad_Temps_2016['Sea_Surface_Temperature'] - 29.63\n"
     ]
    }
   ],
   "source": [
    "Bad_Temps_2016 = Bad_Temps[Bad_Temps['Date'].dt.year == 2016]\n",
    "Bad_Temps_2016['Dif'] = Bad_Temps_2016['Sea_Surface_Temperature'] - 29.63\n",
    "print(Bad_Temps_2016)\n",
    "Total_A_2016 = Bad_Temps_2016['Dif'].sum()\n",
    "print('Total Accumulated Heat Stress:', Total_A_2016)"
   ]
  },
  {
   "cell_type": "code",
   "execution_count": 25,
   "id": "f151fd6e-3886-4c94-8bd8-471330c225c2",
   "metadata": {},
   "outputs": [
    {
     "name": "stdout",
     "output_type": "stream",
     "text": [
      "            Date  Sea_Surface_Temperature   Dif\n",
      "11836 2017-05-29                    30.12  0.49\n",
      "11838 2017-05-31                    29.80  0.17\n",
      "11839 2017-06-01                    29.73  0.10\n",
      "11840 2017-06-02                    29.72  0.09\n",
      "11841 2017-06-03                    29.76  0.13\n",
      "...          ...                      ...   ...\n",
      "11956 2017-09-26                    30.44  0.81\n",
      "11957 2017-09-27                    30.07  0.44\n",
      "11958 2017-09-28                    29.97  0.34\n",
      "11959 2017-09-29                    29.74  0.11\n",
      "11961 2017-10-01                    29.64  0.01\n",
      "\n",
      "[101 rows x 3 columns]\n",
      "Total Accumulated Heat Stress: 80.49000000000012\n"
     ]
    },
    {
     "name": "stderr",
     "output_type": "stream",
     "text": [
      "C:\\Users\\TempK\\AppData\\Local\\Temp\\ipykernel_21900\\4080001533.py:2: SettingWithCopyWarning: \n",
      "A value is trying to be set on a copy of a slice from a DataFrame.\n",
      "Try using .loc[row_indexer,col_indexer] = value instead\n",
      "\n",
      "See the caveats in the documentation: https://pandas.pydata.org/pandas-docs/stable/user_guide/indexing.html#returning-a-view-versus-a-copy\n",
      "  Bad_Temps_2017['Dif'] = Bad_Temps_2017['Sea_Surface_Temperature'] - 29.63\n"
     ]
    }
   ],
   "source": [
    "Bad_Temps_2017 = Bad_Temps[Bad_Temps['Date'].dt.year == 2017]\n",
    "Bad_Temps_2017['Dif'] = Bad_Temps_2017['Sea_Surface_Temperature'] - 29.63\n",
    "print(Bad_Temps_2017)\n",
    "Total_A_2017 = Bad_Temps_2017['Dif'].sum()\n",
    "print('Total Accumulated Heat Stress:', Total_A_2017)"
   ]
  },
  {
   "cell_type": "code",
   "execution_count": 26,
   "id": "2d407371-8ab9-4eed-bdf4-e4dad56d5b80",
   "metadata": {},
   "outputs": [
    {
     "name": "stdout",
     "output_type": "stream",
     "text": [
      "            Date  Sea_Surface_Temperature   Dif\n",
      "12222 2018-06-19                    29.66  0.03\n",
      "12223 2018-06-20                    29.88  0.25\n",
      "12224 2018-06-21                    30.21  0.58\n",
      "12225 2018-06-22                    30.26  0.63\n",
      "12226 2018-06-23                    30.19  0.56\n",
      "...          ...                      ...   ...\n",
      "12321 2018-09-26                    30.18  0.55\n",
      "12322 2018-09-27                    30.13  0.50\n",
      "12323 2018-09-28                    30.13  0.50\n",
      "12324 2018-09-29                    29.74  0.11\n",
      "12325 2018-09-30                    29.69  0.06\n",
      "\n",
      "[90 rows x 3 columns]\n",
      "Total Accumulated Heat Stress: 86.70000000000009\n"
     ]
    },
    {
     "name": "stderr",
     "output_type": "stream",
     "text": [
      "C:\\Users\\TempK\\AppData\\Local\\Temp\\ipykernel_21900\\291689820.py:2: SettingWithCopyWarning: \n",
      "A value is trying to be set on a copy of a slice from a DataFrame.\n",
      "Try using .loc[row_indexer,col_indexer] = value instead\n",
      "\n",
      "See the caveats in the documentation: https://pandas.pydata.org/pandas-docs/stable/user_guide/indexing.html#returning-a-view-versus-a-copy\n",
      "  Bad_Temps_2018['Dif'] = Bad_Temps_2018['Sea_Surface_Temperature'] - 29.63\n"
     ]
    }
   ],
   "source": [
    "Bad_Temps_2018 = Bad_Temps[Bad_Temps['Date'].dt.year == 2018]\n",
    "Bad_Temps_2018['Dif'] = Bad_Temps_2018['Sea_Surface_Temperature'] - 29.63\n",
    "print(Bad_Temps_2018)\n",
    "Total_A_2018 = Bad_Temps_2018['Dif'].sum()\n",
    "print('Total Accumulated Heat Stress:', Total_A_2018)"
   ]
  },
  {
   "cell_type": "code",
   "execution_count": 27,
   "id": "ac9b5c34-7d2f-4bfb-ad0e-c36c4ceb3b03",
   "metadata": {},
   "outputs": [
    {
     "name": "stdout",
     "output_type": "stream",
     "text": [
      "            Date  Sea_Surface_Temperature   Dif\n",
      "12572 2019-06-04                    29.85  0.22\n",
      "12573 2019-06-05                    29.88  0.25\n",
      "12574 2019-06-06                    30.12  0.49\n",
      "12575 2019-06-07                    30.36  0.73\n",
      "12576 2019-06-08                    30.44  0.81\n",
      "...          ...                      ...   ...\n",
      "12676 2019-09-16                    29.89  0.26\n",
      "12677 2019-09-17                    30.01  0.38\n",
      "12678 2019-09-18                    30.06  0.43\n",
      "12679 2019-09-19                    29.86  0.23\n",
      "12680 2019-09-20                    29.89  0.26\n",
      "\n",
      "[107 rows x 3 columns]\n",
      "Total Accumulated Heat Stress: 110.58000000000013\n"
     ]
    },
    {
     "name": "stderr",
     "output_type": "stream",
     "text": [
      "C:\\Users\\TempK\\AppData\\Local\\Temp\\ipykernel_21900\\1282918289.py:2: SettingWithCopyWarning: \n",
      "A value is trying to be set on a copy of a slice from a DataFrame.\n",
      "Try using .loc[row_indexer,col_indexer] = value instead\n",
      "\n",
      "See the caveats in the documentation: https://pandas.pydata.org/pandas-docs/stable/user_guide/indexing.html#returning-a-view-versus-a-copy\n",
      "  Bad_Temps_2019['Dif'] = Bad_Temps_2019['Sea_Surface_Temperature'] - 29.63\n"
     ]
    }
   ],
   "source": [
    "Bad_Temps_2019 = Bad_Temps[Bad_Temps['Date'].dt.year == 2019]\n",
    "Bad_Temps_2019['Dif'] = Bad_Temps_2019['Sea_Surface_Temperature'] - 29.63\n",
    "print(Bad_Temps_2019)\n",
    "Total_A_2019 = Bad_Temps_2019['Dif'].sum()\n",
    "print('Total Accumulated Heat Stress:', Total_A_2019)"
   ]
  },
  {
   "cell_type": "code",
   "execution_count": 28,
   "id": "5383d38f-6cb7-4f29-b208-01ddf796bed6",
   "metadata": {},
   "outputs": [
    {
     "name": "stderr",
     "output_type": "stream",
     "text": [
      "C:\\Users\\TempK\\AppData\\Local\\Temp\\ipykernel_21900\\191440965.py:2: SettingWithCopyWarning: \n",
      "A value is trying to be set on a copy of a slice from a DataFrame.\n",
      "Try using .loc[row_indexer,col_indexer] = value instead\n",
      "\n",
      "See the caveats in the documentation: https://pandas.pydata.org/pandas-docs/stable/user_guide/indexing.html#returning-a-view-versus-a-copy\n",
      "  Bad_Temps_2020['Dif'] = Bad_Temps_2020['Sea_Surface_Temperature'] - 29.63\n"
     ]
    },
    {
     "name": "stdout",
     "output_type": "stream",
     "text": [
      "            Date  Sea_Surface_Temperature   Dif\n",
      "12935 2020-06-01                    29.84  0.21\n",
      "12936 2020-06-02                    29.72  0.09\n",
      "12937 2020-06-03                    29.69  0.06\n",
      "12944 2020-06-10                    29.72  0.09\n",
      "12945 2020-06-11                    29.88  0.25\n",
      "...          ...                      ...   ...\n",
      "13056 2020-09-30                    29.95  0.32\n",
      "13057 2020-10-01                    30.06  0.43\n",
      "13058 2020-10-02                    29.85  0.22\n",
      "13059 2020-10-03                    29.77  0.14\n",
      "13069 2020-10-13                    29.82  0.19\n",
      "\n",
      "[108 rows x 3 columns]\n",
      "Total Accumulated Heat Stress: 99.61000000000011\n"
     ]
    }
   ],
   "source": [
    "Bad_Temps_2020 = Bad_Temps[Bad_Temps['Date'].dt.year == 2020]\n",
    "Bad_Temps_2020['Dif'] = Bad_Temps_2020['Sea_Surface_Temperature'] - 29.63\n",
    "print(Bad_Temps_2020)\n",
    "Total_A_2020 = Bad_Temps_2020['Dif'].sum()\n",
    "print('Total Accumulated Heat Stress:', Total_A_2020)"
   ]
  },
  {
   "cell_type": "code",
   "execution_count": 29,
   "id": "220d4f30-ae5d-4fd6-a792-b1944c27ddb6",
   "metadata": {},
   "outputs": [
    {
     "name": "stdout",
     "output_type": "stream",
     "text": [
      "            Date  Sea_Surface_Temperature   Dif\n",
      "13322 2021-06-23                    29.65  0.02\n",
      "13323 2021-06-24                    29.84  0.21\n",
      "13333 2021-07-04                    29.91  0.28\n",
      "13334 2021-07-05                    30.13  0.50\n",
      "13335 2021-07-06                    29.85  0.22\n",
      "...          ...                      ...   ...\n",
      "13419 2021-09-28                    30.27  0.64\n",
      "13420 2021-09-29                    29.93  0.30\n",
      "13421 2021-09-30                    29.87  0.24\n",
      "13422 2021-10-01                    29.80  0.17\n",
      "13423 2021-10-02                    29.67  0.04\n",
      "\n",
      "[81 rows x 3 columns]\n",
      "Total Accumulated Heat Stress: 68.61000000000008\n"
     ]
    },
    {
     "name": "stderr",
     "output_type": "stream",
     "text": [
      "C:\\Users\\TempK\\AppData\\Local\\Temp\\ipykernel_21900\\2348252295.py:2: SettingWithCopyWarning: \n",
      "A value is trying to be set on a copy of a slice from a DataFrame.\n",
      "Try using .loc[row_indexer,col_indexer] = value instead\n",
      "\n",
      "See the caveats in the documentation: https://pandas.pydata.org/pandas-docs/stable/user_guide/indexing.html#returning-a-view-versus-a-copy\n",
      "  Bad_Temps_2021['Dif'] = Bad_Temps_2021['Sea_Surface_Temperature'] - 29.63\n"
     ]
    }
   ],
   "source": [
    "Bad_Temps_2021 = Bad_Temps[Bad_Temps['Date'].dt.year == 2021]\n",
    "Bad_Temps_2021['Dif'] = Bad_Temps_2021['Sea_Surface_Temperature'] - 29.63\n",
    "print(Bad_Temps_2021)\n",
    "Total_A_2021 = Bad_Temps_2021['Dif'].sum()\n",
    "print('Total Accumulated Heat Stress:', Total_A_2021)"
   ]
  },
  {
   "cell_type": "code",
   "execution_count": 30,
   "id": "862ef644-dff3-4eac-bc32-43266d55d9af",
   "metadata": {},
   "outputs": [
    {
     "name": "stdout",
     "output_type": "stream",
     "text": [
      "            Date  Sea_Surface_Temperature   Dif\n",
      "13676 2022-06-12                    29.82  0.19\n",
      "13677 2022-06-13                    30.21  0.58\n",
      "13678 2022-06-14                    30.41  0.78\n",
      "13679 2022-06-15                    30.39  0.76\n",
      "13680 2022-06-16                    30.35  0.72\n",
      "...          ...                      ...   ...\n",
      "13780 2022-09-24                    30.56  0.93\n",
      "13781 2022-09-25                    30.61  0.98\n",
      "13782 2022-09-26                    30.72  1.09\n",
      "13783 2022-09-27                    30.56  0.93\n",
      "13784 2022-09-28                    30.13  0.50\n",
      "\n",
      "[109 rows x 3 columns]\n",
      "Total Accumulated Heat Stress: 100.80000000000013\n"
     ]
    },
    {
     "name": "stderr",
     "output_type": "stream",
     "text": [
      "C:\\Users\\TempK\\AppData\\Local\\Temp\\ipykernel_21900\\1382639564.py:2: SettingWithCopyWarning: \n",
      "A value is trying to be set on a copy of a slice from a DataFrame.\n",
      "Try using .loc[row_indexer,col_indexer] = value instead\n",
      "\n",
      "See the caveats in the documentation: https://pandas.pydata.org/pandas-docs/stable/user_guide/indexing.html#returning-a-view-versus-a-copy\n",
      "  Bad_Temps_2022['Dif'] = Bad_Temps_2022['Sea_Surface_Temperature'] - 29.63\n"
     ]
    }
   ],
   "source": [
    "Bad_Temps_2022 = Bad_Temps[Bad_Temps['Date'].dt.year == 2022]\n",
    "Bad_Temps_2022['Dif'] = Bad_Temps_2022['Sea_Surface_Temperature'] - 29.63\n",
    "print(Bad_Temps_2022)\n",
    "Total_A_2022 = Bad_Temps_2022['Dif'].sum()\n",
    "print('Total Accumulated Heat Stress:', Total_A_2022)"
   ]
  },
  {
   "cell_type": "code",
   "execution_count": 31,
   "id": "e469068d-d475-4f3e-bf7d-ee6b75b1de2a",
   "metadata": {},
   "outputs": [
    {
     "name": "stderr",
     "output_type": "stream",
     "text": [
      "C:\\Users\\TempK\\AppData\\Local\\Temp\\ipykernel_21900\\2684400141.py:2: SettingWithCopyWarning: \n",
      "A value is trying to be set on a copy of a slice from a DataFrame.\n",
      "Try using .loc[row_indexer,col_indexer] = value instead\n",
      "\n",
      "See the caveats in the documentation: https://pandas.pydata.org/pandas-docs/stable/user_guide/indexing.html#returning-a-view-versus-a-copy\n",
      "  Bad_Temps_2023['Dif'] = Bad_Temps_2023['Sea_Surface_Temperature'] - 29.63\n"
     ]
    },
    {
     "name": "stdout",
     "output_type": "stream",
     "text": [
      "            Date  Sea_Surface_Temperature   Dif\n",
      "14018 2023-05-20                    29.70  0.07\n",
      "14019 2023-05-21                    29.75  0.12\n",
      "14020 2023-05-22                    29.99  0.36\n",
      "14021 2023-05-23                    30.04  0.41\n",
      "14022 2023-05-24                    30.05  0.42\n",
      "...          ...                      ...   ...\n",
      "14162 2023-10-11                    30.00  0.37\n",
      "14163 2023-10-12                    29.78  0.15\n",
      "14164 2023-10-13                    30.03  0.40\n",
      "14165 2023-10-14                    29.92  0.29\n",
      "14166 2023-10-15                    29.92  0.29\n",
      "\n",
      "[143 rows x 3 columns]\n",
      "Total Accumulated Heat Stress: 205.81000000000017\n"
     ]
    }
   ],
   "source": [
    "Bad_Temps_2023 = Bad_Temps[Bad_Temps['Date'].dt.year == 2023]\n",
    "Bad_Temps_2023['Dif'] = Bad_Temps_2023['Sea_Surface_Temperature'] - 29.63\n",
    "print(Bad_Temps_2023)\n",
    "Total_A_2023 = Bad_Temps_2023['Dif'].sum()\n",
    "print('Total Accumulated Heat Stress:', Total_A_2023)"
   ]
  },
  {
   "cell_type": "code",
   "execution_count": 32,
   "id": "c9b9cae6-78ce-428c-a12a-e44ed9a20751",
   "metadata": {},
   "outputs": [
    {
     "name": "stdout",
     "output_type": "stream",
     "text": [
      "            Date  Sea_Surface_Temperature   Dif\n",
      "14381 2024-05-17                    30.01  0.38\n",
      "14382 2024-05-18                    30.18  0.55\n",
      "14383 2024-05-19                    30.43  0.80\n",
      "14384 2024-05-20                    30.15  0.52\n",
      "14385 2024-05-21                    30.09  0.46\n",
      "...          ...                      ...   ...\n",
      "14520 2024-10-03                    30.45  0.82\n",
      "14521 2024-10-04                    30.41  0.78\n",
      "14522 2024-10-05                    30.38  0.75\n",
      "14523 2024-10-06                    30.02  0.39\n",
      "14525 2024-10-08                    29.73  0.10\n",
      "\n",
      "[135 rows x 3 columns]\n",
      "Total Accumulated Heat Stress: 151.30000000000015\n"
     ]
    },
    {
     "name": "stderr",
     "output_type": "stream",
     "text": [
      "C:\\Users\\TempK\\AppData\\Local\\Temp\\ipykernel_21900\\3943182192.py:2: SettingWithCopyWarning: \n",
      "A value is trying to be set on a copy of a slice from a DataFrame.\n",
      "Try using .loc[row_indexer,col_indexer] = value instead\n",
      "\n",
      "See the caveats in the documentation: https://pandas.pydata.org/pandas-docs/stable/user_guide/indexing.html#returning-a-view-versus-a-copy\n",
      "  Bad_Temps_2024['Dif'] = Bad_Temps_2024['Sea_Surface_Temperature'] - 29.63\n"
     ]
    }
   ],
   "source": [
    "Bad_Temps_2024 = Bad_Temps[Bad_Temps['Date'].dt.year == 2024]\n",
    "Bad_Temps_2024['Dif'] = Bad_Temps_2024['Sea_Surface_Temperature'] - 29.63\n",
    "print(Bad_Temps_2024)\n",
    "Total_A_2024 = Bad_Temps_2024['Dif'].sum()\n",
    "print('Total Accumulated Heat Stress:', Total_A_2024)"
   ]
  },
  {
   "cell_type": "code",
   "execution_count": 33,
   "id": "b7f279df-e819-4fe8-8e5f-68bebc988c8d",
   "metadata": {},
   "outputs": [
    {
     "name": "stderr",
     "output_type": "stream",
     "text": [
      "C:\\Users\\TempK\\AppData\\Local\\Temp\\ipykernel_21900\\2005551594.py:2: SettingWithCopyWarning: \n",
      "A value is trying to be set on a copy of a slice from a DataFrame.\n",
      "Try using .loc[row_indexer,col_indexer] = value instead\n",
      "\n",
      "See the caveats in the documentation: https://pandas.pydata.org/pandas-docs/stable/user_guide/indexing.html#returning-a-view-versus-a-copy\n",
      "  Bad_Temps_2025['Dif'] = Bad_Temps_2025['Sea_Surface_Temperature'] - 29.63\n"
     ]
    },
    {
     "name": "stdout",
     "output_type": "stream",
     "text": [
      "            Date  Sea_Surface_Temperature   Dif\n",
      "14749 2025-05-20                    29.79  0.16\n",
      "14750 2025-05-21                    29.70  0.07\n",
      "14751 2025-05-22                    29.93  0.30\n",
      "14752 2025-05-23                    30.41  0.78\n",
      "14753 2025-05-24                    30.89  1.26\n",
      "14754 2025-05-25                    30.80  1.17\n",
      "14755 2025-05-26                    30.65  1.02\n",
      "14756 2025-05-27                    30.56  0.93\n",
      "14757 2025-05-28                    30.42  0.79\n",
      "14758 2025-05-29                    30.45  0.82\n",
      "14759 2025-05-30                    30.44  0.81\n",
      "14760 2025-05-31                    30.36  0.73\n",
      "14761 2025-06-01                    30.26  0.63\n",
      "14762 2025-06-02                    30.36  0.73\n",
      "14763 2025-06-03                    29.94  0.31\n",
      "14764 2025-06-04                    29.70  0.07\n",
      "14769 2025-06-09                    29.99  0.36\n",
      "14770 2025-06-10                    30.15  0.52\n",
      "14771 2025-06-11                    29.93  0.30\n",
      "14772 2025-06-12                    29.94  0.31\n",
      "14773 2025-06-13                    29.74  0.11\n",
      "14774 2025-06-14                    29.85  0.22\n",
      "14775 2025-06-15                    29.87  0.24\n",
      "14776 2025-06-16                    29.81  0.18\n",
      "14777 2025-06-17                    29.74  0.11\n",
      "14778 2025-06-18                    29.74  0.11\n",
      "14779 2025-06-19                    29.94  0.31\n",
      "14780 2025-06-20                    30.21  0.58\n",
      "14781 2025-06-21                    30.19  0.56\n",
      "14782 2025-06-22                    30.13  0.50\n",
      "14783 2025-06-23                    30.00  0.37\n",
      "14784 2025-06-24                    30.02  0.39\n",
      "14785 2025-06-25                    29.78  0.15\n",
      "Total Accumulated Heat Stress: 15.90000000000003\n"
     ]
    }
   ],
   "source": [
    "Bad_Temps_2025 = Bad_Temps[Bad_Temps['Date'].dt.year == 2025]\n",
    "Bad_Temps_2025['Dif'] = Bad_Temps_2025['Sea_Surface_Temperature'] - 29.63\n",
    "print(Bad_Temps_2025)\n",
    "Total_A_2025 = Bad_Temps_2025['Dif'].sum()\n",
    "print('Total Accumulated Heat Stress:', Total_A_2025)"
   ]
  },
  {
   "cell_type": "code",
   "execution_count": 34,
   "id": "f923b15d-825f-40d9-ab57-5abbe31175c0",
   "metadata": {},
   "outputs": [],
   "source": [
    "Total_10_Yr = Total_A_2015, Total_A_2016, Total_A_2017, Total_A_2018, Total_A_2019, Total_A_2020, Total_A_2021, Total_A_2022, Total_A_2023, Total_A_2024"
   ]
  },
  {
   "cell_type": "code",
   "execution_count": 35,
   "id": "57b8800f-c6ed-423a-8cb3-a34724d89636",
   "metadata": {},
   "outputs": [
    {
     "data": {
      "text/plain": [
       "(100.86000000000011,\n",
       " 75.42000000000007,\n",
       " 80.49000000000012,\n",
       " 86.70000000000009,\n",
       " 110.58000000000013,\n",
       " 99.61000000000011,\n",
       " 68.61000000000008,\n",
       " 100.80000000000013,\n",
       " 205.81000000000017,\n",
       " 151.30000000000015)"
      ]
     },
     "execution_count": 35,
     "metadata": {},
     "output_type": "execute_result"
    }
   ],
   "source": [
    "Total_10_Yr"
   ]
  },
  {
   "cell_type": "code",
   "execution_count": 36,
   "id": "c15cc249-8d2c-41cd-b899-e1041744909a",
   "metadata": {
    "scrolled": true
   },
   "outputs": [
    {
     "data": {
      "text/plain": [
       "<Axes: >"
      ]
     },
     "execution_count": 36,
     "metadata": {},
     "output_type": "execute_result"
    },
    {
     "data": {
      "image/png": "[encoded data removed]",
      "text/plain": [
       "<Figure size 640x480 with 1 Axes>"
      ]
     },
     "metadata": {},
     "output_type": "display_data"
    }
   ],
   "source": [
    "sns.lineplot(data=Total_10_Yr)"
   ]
  },
  {
   "cell_type": "markdown",
   "id": "7f96109d-410d-4e82-9ade-31d28ada4940",
   "metadata": {},
   "source": [
    "## "
   ]
  }
 ],
 "metadata": {
  "kernelspec": {
   "display_name": "Python [conda env:base] *",
   "language": "python",
   "name": "conda-base-py"
  },
  "language_info": {
   "codemirror_mode": {
    "name": "ipython",
    "version": 3
   },
   "file_extension": ".py",
   "mimetype": "text/x-python",
   "name": "python",
   "nbconvert_exporter": "python",
   "pygments_lexer": "ipython3",
   "version": "3.12.3"
  }
 },
 "nbformat": 4,
 "nbformat_minor": 5
}
