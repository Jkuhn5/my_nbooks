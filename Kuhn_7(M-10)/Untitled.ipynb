{
 "cells": [
  {
   "cell_type": "markdown",
   "id": "4a3fb9db-b15f-4de5-b156-ef29e349f3e3",
   "metadata": {},
   "source": [
    "# Chapter 10 - Simple Linear Regression"
   ]
  },
  {
   "cell_type": "markdown",
   "id": "b9f134fc-4550-4fe2-93a8-ddb7463dda12",
   "metadata": {},
   "source": [
    "## by Jacob Kuhn"
   ]
  },
  {
   "cell_type": "markdown",
   "id": "130e3627-1808-47db-90b0-0deff22c7545",
   "metadata": {},
   "source": [
    "#### A Simple Linear Regression Model attempts to find the correlation between two sets of data points to produce a prediction line for further data points."
   ]
  },
  {
   "cell_type": "code",
   "execution_count": 375,
   "id": "5af68252-6d5b-4c6c-a22e-bbe5c78e5a29",
   "metadata": {},
   "outputs": [],
   "source": [
    "import pandas as pd\n",
    "import seaborn as sns\n",
    "from sklearn.linear_model import LinearRegression\n",
    "from sklearn.model_selection import train_test_split"
   ]
  },
  {
   "cell_type": "code",
   "execution_count": 377,
   "id": "05bc3163-14a1-4bd7-ba79-3ad69a1d0a96",
   "metadata": {},
   "outputs": [],
   "source": [
    "data = sns.load_dataset('diamonds') "
   ]
  },
  {
   "cell_type": "code",
   "execution_count": 379,
   "id": "e6890816-3be7-4bd2-a6b0-ce4f1af89c84",
   "metadata": {},
   "outputs": [
    {
     "data": {
      "text/html": [
       "<div>\n",
       "<style scoped>\n",
       "    .dataframe tbody tr th:only-of-type {\n",
       "        vertical-align: middle;\n",
       "    }\n",
       "\n",
       "    .dataframe tbody tr th {\n",
       "        vertical-align: top;\n",
       "    }\n",
       "\n",
       "    .dataframe thead th {\n",
       "        text-align: right;\n",
       "    }\n",
       "</style>\n",
       "<table border=\"1\" class=\"dataframe\">\n",
       "  <thead>\n",
       "    <tr style=\"text-align: right;\">\n",
       "      <th></th>\n",
       "      <th>carat</th>\n",
       "      <th>cut</th>\n",
       "      <th>color</th>\n",
       "      <th>clarity</th>\n",
       "      <th>depth</th>\n",
       "      <th>table</th>\n",
       "      <th>price</th>\n",
       "      <th>x</th>\n",
       "      <th>y</th>\n",
       "      <th>z</th>\n",
       "    </tr>\n",
       "  </thead>\n",
       "  <tbody>\n",
       "    <tr>\n",
       "      <th>0</th>\n",
       "      <td>0.23</td>\n",
       "      <td>Ideal</td>\n",
       "      <td>E</td>\n",
       "      <td>SI2</td>\n",
       "      <td>61.5</td>\n",
       "      <td>55.0</td>\n",
       "      <td>326</td>\n",
       "      <td>3.95</td>\n",
       "      <td>3.98</td>\n",
       "      <td>2.43</td>\n",
       "    </tr>\n",
       "    <tr>\n",
       "      <th>1</th>\n",
       "      <td>0.21</td>\n",
       "      <td>Premium</td>\n",
       "      <td>E</td>\n",
       "      <td>SI1</td>\n",
       "      <td>59.8</td>\n",
       "      <td>61.0</td>\n",
       "      <td>326</td>\n",
       "      <td>3.89</td>\n",
       "      <td>3.84</td>\n",
       "      <td>2.31</td>\n",
       "    </tr>\n",
       "    <tr>\n",
       "      <th>2</th>\n",
       "      <td>0.23</td>\n",
       "      <td>Good</td>\n",
       "      <td>E</td>\n",
       "      <td>VS1</td>\n",
       "      <td>56.9</td>\n",
       "      <td>65.0</td>\n",
       "      <td>327</td>\n",
       "      <td>4.05</td>\n",
       "      <td>4.07</td>\n",
       "      <td>2.31</td>\n",
       "    </tr>\n",
       "    <tr>\n",
       "      <th>3</th>\n",
       "      <td>0.29</td>\n",
       "      <td>Premium</td>\n",
       "      <td>I</td>\n",
       "      <td>VS2</td>\n",
       "      <td>62.4</td>\n",
       "      <td>58.0</td>\n",
       "      <td>334</td>\n",
       "      <td>4.20</td>\n",
       "      <td>4.23</td>\n",
       "      <td>2.63</td>\n",
       "    </tr>\n",
       "    <tr>\n",
       "      <th>4</th>\n",
       "      <td>0.31</td>\n",
       "      <td>Good</td>\n",
       "      <td>J</td>\n",
       "      <td>SI2</td>\n",
       "      <td>63.3</td>\n",
       "      <td>58.0</td>\n",
       "      <td>335</td>\n",
       "      <td>4.34</td>\n",
       "      <td>4.35</td>\n",
       "      <td>2.75</td>\n",
       "    </tr>\n",
       "  </tbody>\n",
       "</table>\n",
       "</div>"
      ],
      "text/plain": [
       "   carat      cut color clarity  depth  table  price     x     y     z\n",
       "0   0.23    Ideal     E     SI2   61.5   55.0    326  3.95  3.98  2.43\n",
       "1   0.21  Premium     E     SI1   59.8   61.0    326  3.89  3.84  2.31\n",
       "2   0.23     Good     E     VS1   56.9   65.0    327  4.05  4.07  2.31\n",
       "3   0.29  Premium     I     VS2   62.4   58.0    334  4.20  4.23  2.63\n",
       "4   0.31     Good     J     SI2   63.3   58.0    335  4.34  4.35  2.75"
      ]
     },
     "execution_count": 379,
     "metadata": {},
     "output_type": "execute_result"
    }
   ],
   "source": [
    "data.head(5)"
   ]
  },
  {
   "cell_type": "markdown",
   "id": "9efc2151-ef74-45e5-a309-fe413d618dc0",
   "metadata": {},
   "source": [
    "## Pearson Correlation Coefficient (r-value) ##\n",
    "- strengh of correlation between data points\n",
    "- spans from -1 to 1.\n",
    "- -1 being a direct 1:-1 inverse correlation.\n",
    "- 1 being a direct 1:1 correlation\n",
    "- 0 represents a lack of correlation\n",
    "- any number in between describes how concentrated to the prediction the data is.\n",
    "- The square of the r-value gives the coefficient of determination which states the proportion of vaiations in y that can be explained by variations in x\n",
    "- r = concentration, r^2 = the percent proportion explained\n",
    "- exponentially related."
   ]
  },
  {
   "cell_type": "code",
   "execution_count": null,
   "id": "d037ee4e-cdcd-4789-a066-4d78ac081637",
   "metadata": {},
   "outputs": [],
   "source": []
  },
  {
   "cell_type": "code",
   "execution_count": 383,
   "id": "d8069a61-2466-4029-b8e7-c5adbc1bded4",
   "metadata": {
    "scrolled": true
   },
   "outputs": [
    {
     "ename": "ValueError",
     "evalue": "could not convert string to float: 'Ideal'",
     "output_type": "error",
     "traceback": [
      "\u001b[1;31m---------------------------------------------------------------------------\u001b[0m",
      "\u001b[1;31mValueError\u001b[0m                                Traceback (most recent call last)",
      "Cell \u001b[1;32mIn[383], line 1\u001b[0m\n\u001b[1;32m----> 1\u001b[0m data\u001b[38;5;241m.\u001b[39mcorr()\n",
      "File \u001b[1;32m~\\anaconda3\\Lib\\site-packages\\pandas\\core\\frame.py:11049\u001b[0m, in \u001b[0;36mDataFrame.corr\u001b[1;34m(self, method, min_periods, numeric_only)\u001b[0m\n\u001b[0;32m  11047\u001b[0m cols \u001b[38;5;241m=\u001b[39m data\u001b[38;5;241m.\u001b[39mcolumns\n\u001b[0;32m  11048\u001b[0m idx \u001b[38;5;241m=\u001b[39m cols\u001b[38;5;241m.\u001b[39mcopy()\n\u001b[1;32m> 11049\u001b[0m mat \u001b[38;5;241m=\u001b[39m data\u001b[38;5;241m.\u001b[39mto_numpy(dtype\u001b[38;5;241m=\u001b[39m\u001b[38;5;28mfloat\u001b[39m, na_value\u001b[38;5;241m=\u001b[39mnp\u001b[38;5;241m.\u001b[39mnan, copy\u001b[38;5;241m=\u001b[39m\u001b[38;5;28;01mFalse\u001b[39;00m)\n\u001b[0;32m  11051\u001b[0m \u001b[38;5;28;01mif\u001b[39;00m method \u001b[38;5;241m==\u001b[39m \u001b[38;5;124m\"\u001b[39m\u001b[38;5;124mpearson\u001b[39m\u001b[38;5;124m\"\u001b[39m:\n\u001b[0;32m  11052\u001b[0m     correl \u001b[38;5;241m=\u001b[39m libalgos\u001b[38;5;241m.\u001b[39mnancorr(mat, minp\u001b[38;5;241m=\u001b[39mmin_periods)\n",
      "File \u001b[1;32m~\\anaconda3\\Lib\\site-packages\\pandas\\core\\frame.py:1993\u001b[0m, in \u001b[0;36mDataFrame.to_numpy\u001b[1;34m(self, dtype, copy, na_value)\u001b[0m\n\u001b[0;32m   1991\u001b[0m \u001b[38;5;28;01mif\u001b[39;00m dtype \u001b[38;5;129;01mis\u001b[39;00m \u001b[38;5;129;01mnot\u001b[39;00m \u001b[38;5;28;01mNone\u001b[39;00m:\n\u001b[0;32m   1992\u001b[0m     dtype \u001b[38;5;241m=\u001b[39m np\u001b[38;5;241m.\u001b[39mdtype(dtype)\n\u001b[1;32m-> 1993\u001b[0m result \u001b[38;5;241m=\u001b[39m \u001b[38;5;28mself\u001b[39m\u001b[38;5;241m.\u001b[39m_mgr\u001b[38;5;241m.\u001b[39mas_array(dtype\u001b[38;5;241m=\u001b[39mdtype, copy\u001b[38;5;241m=\u001b[39mcopy, na_value\u001b[38;5;241m=\u001b[39mna_value)\n\u001b[0;32m   1994\u001b[0m \u001b[38;5;28;01mif\u001b[39;00m result\u001b[38;5;241m.\u001b[39mdtype \u001b[38;5;129;01mis\u001b[39;00m \u001b[38;5;129;01mnot\u001b[39;00m dtype:\n\u001b[0;32m   1995\u001b[0m     result \u001b[38;5;241m=\u001b[39m np\u001b[38;5;241m.\u001b[39masarray(result, dtype\u001b[38;5;241m=\u001b[39mdtype)\n",
      "File \u001b[1;32m~\\anaconda3\\Lib\\site-packages\\pandas\\core\\internals\\managers.py:1694\u001b[0m, in \u001b[0;36mBlockManager.as_array\u001b[1;34m(self, dtype, copy, na_value)\u001b[0m\n\u001b[0;32m   1692\u001b[0m         arr\u001b[38;5;241m.\u001b[39mflags\u001b[38;5;241m.\u001b[39mwriteable \u001b[38;5;241m=\u001b[39m \u001b[38;5;28;01mFalse\u001b[39;00m\n\u001b[0;32m   1693\u001b[0m \u001b[38;5;28;01melse\u001b[39;00m:\n\u001b[1;32m-> 1694\u001b[0m     arr \u001b[38;5;241m=\u001b[39m \u001b[38;5;28mself\u001b[39m\u001b[38;5;241m.\u001b[39m_interleave(dtype\u001b[38;5;241m=\u001b[39mdtype, na_value\u001b[38;5;241m=\u001b[39mna_value)\n\u001b[0;32m   1695\u001b[0m     \u001b[38;5;66;03m# The underlying data was copied within _interleave, so no need\u001b[39;00m\n\u001b[0;32m   1696\u001b[0m     \u001b[38;5;66;03m# to further copy if copy=True or setting na_value\u001b[39;00m\n\u001b[0;32m   1698\u001b[0m \u001b[38;5;28;01mif\u001b[39;00m na_value \u001b[38;5;129;01mis\u001b[39;00m lib\u001b[38;5;241m.\u001b[39mno_default:\n",
      "File \u001b[1;32m~\\anaconda3\\Lib\\site-packages\\pandas\\core\\internals\\managers.py:1747\u001b[0m, in \u001b[0;36mBlockManager._interleave\u001b[1;34m(self, dtype, na_value)\u001b[0m\n\u001b[0;32m   1741\u001b[0m rl \u001b[38;5;241m=\u001b[39m blk\u001b[38;5;241m.\u001b[39mmgr_locs\n\u001b[0;32m   1742\u001b[0m \u001b[38;5;28;01mif\u001b[39;00m blk\u001b[38;5;241m.\u001b[39mis_extension:\n\u001b[0;32m   1743\u001b[0m     \u001b[38;5;66;03m# Avoid implicit conversion of extension blocks to object\u001b[39;00m\n\u001b[0;32m   1744\u001b[0m \n\u001b[0;32m   1745\u001b[0m     \u001b[38;5;66;03m# error: Item \"ndarray\" of \"Union[ndarray, ExtensionArray]\" has no\u001b[39;00m\n\u001b[0;32m   1746\u001b[0m     \u001b[38;5;66;03m# attribute \"to_numpy\"\u001b[39;00m\n\u001b[1;32m-> 1747\u001b[0m     arr \u001b[38;5;241m=\u001b[39m blk\u001b[38;5;241m.\u001b[39mvalues\u001b[38;5;241m.\u001b[39mto_numpy(  \u001b[38;5;66;03m# type: ignore[union-attr]\u001b[39;00m\n\u001b[0;32m   1748\u001b[0m         dtype\u001b[38;5;241m=\u001b[39mdtype,\n\u001b[0;32m   1749\u001b[0m         na_value\u001b[38;5;241m=\u001b[39mna_value,\n\u001b[0;32m   1750\u001b[0m     )\n\u001b[0;32m   1751\u001b[0m \u001b[38;5;28;01melse\u001b[39;00m:\n\u001b[0;32m   1752\u001b[0m     arr \u001b[38;5;241m=\u001b[39m blk\u001b[38;5;241m.\u001b[39mget_values(dtype)\n",
      "File \u001b[1;32m~\\anaconda3\\Lib\\site-packages\\pandas\\core\\arrays\\base.py:568\u001b[0m, in \u001b[0;36mExtensionArray.to_numpy\u001b[1;34m(self, dtype, copy, na_value)\u001b[0m\n\u001b[0;32m    539\u001b[0m \u001b[38;5;28;01mdef\u001b[39;00m \u001b[38;5;21mto_numpy\u001b[39m(\n\u001b[0;32m    540\u001b[0m     \u001b[38;5;28mself\u001b[39m,\n\u001b[0;32m    541\u001b[0m     dtype: npt\u001b[38;5;241m.\u001b[39mDTypeLike \u001b[38;5;241m|\u001b[39m \u001b[38;5;28;01mNone\u001b[39;00m \u001b[38;5;241m=\u001b[39m \u001b[38;5;28;01mNone\u001b[39;00m,\n\u001b[0;32m    542\u001b[0m     copy: \u001b[38;5;28mbool\u001b[39m \u001b[38;5;241m=\u001b[39m \u001b[38;5;28;01mFalse\u001b[39;00m,\n\u001b[0;32m    543\u001b[0m     na_value: \u001b[38;5;28mobject\u001b[39m \u001b[38;5;241m=\u001b[39m lib\u001b[38;5;241m.\u001b[39mno_default,\n\u001b[0;32m    544\u001b[0m ) \u001b[38;5;241m-\u001b[39m\u001b[38;5;241m>\u001b[39m np\u001b[38;5;241m.\u001b[39mndarray:\n\u001b[0;32m    545\u001b[0m \u001b[38;5;250m    \u001b[39m\u001b[38;5;124;03m\"\"\"\u001b[39;00m\n\u001b[0;32m    546\u001b[0m \u001b[38;5;124;03m    Convert to a NumPy ndarray.\u001b[39;00m\n\u001b[0;32m    547\u001b[0m \n\u001b[1;32m   (...)\u001b[0m\n\u001b[0;32m    566\u001b[0m \u001b[38;5;124;03m    numpy.ndarray\u001b[39;00m\n\u001b[0;32m    567\u001b[0m \u001b[38;5;124;03m    \"\"\"\u001b[39;00m\n\u001b[1;32m--> 568\u001b[0m     result \u001b[38;5;241m=\u001b[39m np\u001b[38;5;241m.\u001b[39masarray(\u001b[38;5;28mself\u001b[39m, dtype\u001b[38;5;241m=\u001b[39mdtype)\n\u001b[0;32m    569\u001b[0m     \u001b[38;5;28;01mif\u001b[39;00m copy \u001b[38;5;129;01mor\u001b[39;00m na_value \u001b[38;5;129;01mis\u001b[39;00m \u001b[38;5;129;01mnot\u001b[39;00m lib\u001b[38;5;241m.\u001b[39mno_default:\n\u001b[0;32m    570\u001b[0m         result \u001b[38;5;241m=\u001b[39m result\u001b[38;5;241m.\u001b[39mcopy()\n",
      "File \u001b[1;32m~\\anaconda3\\Lib\\site-packages\\pandas\\core\\arrays\\_mixins.py:81\u001b[0m, in \u001b[0;36mravel_compat.<locals>.method\u001b[1;34m(self, *args, **kwargs)\u001b[0m\n\u001b[0;32m     78\u001b[0m \u001b[38;5;129m@wraps\u001b[39m(meth)\n\u001b[0;32m     79\u001b[0m \u001b[38;5;28;01mdef\u001b[39;00m \u001b[38;5;21mmethod\u001b[39m(\u001b[38;5;28mself\u001b[39m, \u001b[38;5;241m*\u001b[39margs, \u001b[38;5;241m*\u001b[39m\u001b[38;5;241m*\u001b[39mkwargs):\n\u001b[0;32m     80\u001b[0m     \u001b[38;5;28;01mif\u001b[39;00m \u001b[38;5;28mself\u001b[39m\u001b[38;5;241m.\u001b[39mndim \u001b[38;5;241m==\u001b[39m \u001b[38;5;241m1\u001b[39m:\n\u001b[1;32m---> 81\u001b[0m         \u001b[38;5;28;01mreturn\u001b[39;00m meth(\u001b[38;5;28mself\u001b[39m, \u001b[38;5;241m*\u001b[39margs, \u001b[38;5;241m*\u001b[39m\u001b[38;5;241m*\u001b[39mkwargs)\n\u001b[0;32m     83\u001b[0m     flags \u001b[38;5;241m=\u001b[39m \u001b[38;5;28mself\u001b[39m\u001b[38;5;241m.\u001b[39m_ndarray\u001b[38;5;241m.\u001b[39mflags\n\u001b[0;32m     84\u001b[0m     flat \u001b[38;5;241m=\u001b[39m \u001b[38;5;28mself\u001b[39m\u001b[38;5;241m.\u001b[39mravel(\u001b[38;5;124m\"\u001b[39m\u001b[38;5;124mK\u001b[39m\u001b[38;5;124m\"\u001b[39m)\n",
      "File \u001b[1;32m~\\anaconda3\\Lib\\site-packages\\pandas\\core\\arrays\\categorical.py:1664\u001b[0m, in \u001b[0;36mCategorical.__array__\u001b[1;34m(self, dtype, copy)\u001b[0m\n\u001b[0;32m   1662\u001b[0m ret \u001b[38;5;241m=\u001b[39m take_nd(\u001b[38;5;28mself\u001b[39m\u001b[38;5;241m.\u001b[39mcategories\u001b[38;5;241m.\u001b[39m_values, \u001b[38;5;28mself\u001b[39m\u001b[38;5;241m.\u001b[39m_codes)\n\u001b[0;32m   1663\u001b[0m \u001b[38;5;28;01mif\u001b[39;00m dtype \u001b[38;5;129;01mand\u001b[39;00m np\u001b[38;5;241m.\u001b[39mdtype(dtype) \u001b[38;5;241m!=\u001b[39m \u001b[38;5;28mself\u001b[39m\u001b[38;5;241m.\u001b[39mcategories\u001b[38;5;241m.\u001b[39mdtype:\n\u001b[1;32m-> 1664\u001b[0m     \u001b[38;5;28;01mreturn\u001b[39;00m np\u001b[38;5;241m.\u001b[39masarray(ret, dtype)\n\u001b[0;32m   1665\u001b[0m \u001b[38;5;66;03m# When we're a Categorical[ExtensionArray], like Interval,\u001b[39;00m\n\u001b[0;32m   1666\u001b[0m \u001b[38;5;66;03m# we need to ensure __array__ gets all the way to an\u001b[39;00m\n\u001b[0;32m   1667\u001b[0m \u001b[38;5;66;03m# ndarray.\u001b[39;00m\n\u001b[0;32m   1668\u001b[0m \u001b[38;5;28;01mreturn\u001b[39;00m np\u001b[38;5;241m.\u001b[39masarray(ret)\n",
      "\u001b[1;31mValueError\u001b[0m: could not convert string to float: 'Ideal'"
     ]
    }
   ],
   "source": [
    "data.corr()"
   ]
  },
  {
   "cell_type": "code",
   "execution_count": 385,
   "id": "c56274b1-8fb8-465e-8f58-7084621710d1",
   "metadata": {},
   "outputs": [
    {
     "data": {
      "text/plain": [
       "['Ideal', 'Premium', 'Good', 'Very Good', 'Fair']\n",
       "Categories (5, object): ['Ideal', 'Premium', 'Very Good', 'Good', 'Fair']"
      ]
     },
     "execution_count": 385,
     "metadata": {},
     "output_type": "execute_result"
    }
   ],
   "source": [
    "data['cut'].unique()"
   ]
  },
  {
   "cell_type": "code",
   "execution_count": 387,
   "id": "bd7481b8-26f1-4a43-aa3e-b35f1c7f3a31",
   "metadata": {},
   "outputs": [],
   "source": [
    "data_num = data.copy()"
   ]
  },
  {
   "cell_type": "code",
   "execution_count": 389,
   "id": "c8b2fd92-04cb-4c46-acb3-ab651321c79c",
   "metadata": {},
   "outputs": [
    {
     "data": {
      "text/html": [
       "<div>\n",
       "<style scoped>\n",
       "    .dataframe tbody tr th:only-of-type {\n",
       "        vertical-align: middle;\n",
       "    }\n",
       "\n",
       "    .dataframe tbody tr th {\n",
       "        vertical-align: top;\n",
       "    }\n",
       "\n",
       "    .dataframe thead th {\n",
       "        text-align: right;\n",
       "    }\n",
       "</style>\n",
       "<table border=\"1\" class=\"dataframe\">\n",
       "  <thead>\n",
       "    <tr style=\"text-align: right;\">\n",
       "      <th></th>\n",
       "      <th>carat</th>\n",
       "      <th>cut</th>\n",
       "      <th>color</th>\n",
       "      <th>clarity</th>\n",
       "      <th>depth</th>\n",
       "      <th>table</th>\n",
       "      <th>price</th>\n",
       "      <th>x</th>\n",
       "      <th>y</th>\n",
       "      <th>z</th>\n",
       "    </tr>\n",
       "  </thead>\n",
       "  <tbody>\n",
       "    <tr>\n",
       "      <th>0</th>\n",
       "      <td>0.23</td>\n",
       "      <td>Ideal</td>\n",
       "      <td>E</td>\n",
       "      <td>SI2</td>\n",
       "      <td>61.5</td>\n",
       "      <td>55.0</td>\n",
       "      <td>326</td>\n",
       "      <td>3.95</td>\n",
       "      <td>3.98</td>\n",
       "      <td>2.43</td>\n",
       "    </tr>\n",
       "    <tr>\n",
       "      <th>1</th>\n",
       "      <td>0.21</td>\n",
       "      <td>Premium</td>\n",
       "      <td>E</td>\n",
       "      <td>SI1</td>\n",
       "      <td>59.8</td>\n",
       "      <td>61.0</td>\n",
       "      <td>326</td>\n",
       "      <td>3.89</td>\n",
       "      <td>3.84</td>\n",
       "      <td>2.31</td>\n",
       "    </tr>\n",
       "    <tr>\n",
       "      <th>2</th>\n",
       "      <td>0.23</td>\n",
       "      <td>Good</td>\n",
       "      <td>E</td>\n",
       "      <td>VS1</td>\n",
       "      <td>56.9</td>\n",
       "      <td>65.0</td>\n",
       "      <td>327</td>\n",
       "      <td>4.05</td>\n",
       "      <td>4.07</td>\n",
       "      <td>2.31</td>\n",
       "    </tr>\n",
       "    <tr>\n",
       "      <th>3</th>\n",
       "      <td>0.29</td>\n",
       "      <td>Premium</td>\n",
       "      <td>I</td>\n",
       "      <td>VS2</td>\n",
       "      <td>62.4</td>\n",
       "      <td>58.0</td>\n",
       "      <td>334</td>\n",
       "      <td>4.20</td>\n",
       "      <td>4.23</td>\n",
       "      <td>2.63</td>\n",
       "    </tr>\n",
       "    <tr>\n",
       "      <th>4</th>\n",
       "      <td>0.31</td>\n",
       "      <td>Good</td>\n",
       "      <td>J</td>\n",
       "      <td>SI2</td>\n",
       "      <td>63.3</td>\n",
       "      <td>58.0</td>\n",
       "      <td>335</td>\n",
       "      <td>4.34</td>\n",
       "      <td>4.35</td>\n",
       "      <td>2.75</td>\n",
       "    </tr>\n",
       "  </tbody>\n",
       "</table>\n",
       "</div>"
      ],
      "text/plain": [
       "   carat      cut color clarity  depth  table  price     x     y     z\n",
       "0   0.23    Ideal     E     SI2   61.5   55.0    326  3.95  3.98  2.43\n",
       "1   0.21  Premium     E     SI1   59.8   61.0    326  3.89  3.84  2.31\n",
       "2   0.23     Good     E     VS1   56.9   65.0    327  4.05  4.07  2.31\n",
       "3   0.29  Premium     I     VS2   62.4   58.0    334  4.20  4.23  2.63\n",
       "4   0.31     Good     J     SI2   63.3   58.0    335  4.34  4.35  2.75"
      ]
     },
     "execution_count": 389,
     "metadata": {},
     "output_type": "execute_result"
    }
   ],
   "source": [
    "data_num.head()"
   ]
  },
  {
   "cell_type": "code",
   "execution_count": 391,
   "id": "baa47904-06b3-4d96-833f-c92753d762cc",
   "metadata": {},
   "outputs": [
    {
     "name": "stderr",
     "output_type": "stream",
     "text": [
      "C:\\Users\\TempK\\AppData\\Local\\Temp\\ipykernel_22000\\3615342551.py:2: FutureWarning: The behavior of Series.replace (and DataFrame.replace) with CategoricalDtype is deprecated. In a future version, replace will only be used for cases that preserve the categories. To change the categories, use ser.cat.rename_categories instead.\n",
      "  data_num['cut'] = data_num['cut'].replace({'Ideal': '5', 'Premium': '4', 'Very Good': '3', 'Good': '2', 'Fair': '1'})\n"
     ]
    }
   ],
   "source": [
    "# This is set as 5 being best, and 1 being worst to maintain positive correlations to price.\n",
    "data_num['cut'] = data_num['cut'].replace({'Ideal': '5', 'Premium': '4', 'Very Good': '3', 'Good': '2', 'Fair': '1'})"
   ]
  },
  {
   "cell_type": "code",
   "execution_count": 393,
   "id": "51f378d0-0cf8-45aa-9ec7-633f3d1d5b6d",
   "metadata": {},
   "outputs": [
    {
     "data": {
      "text/html": [
       "<div>\n",
       "<style scoped>\n",
       "    .dataframe tbody tr th:only-of-type {\n",
       "        vertical-align: middle;\n",
       "    }\n",
       "\n",
       "    .dataframe tbody tr th {\n",
       "        vertical-align: top;\n",
       "    }\n",
       "\n",
       "    .dataframe thead th {\n",
       "        text-align: right;\n",
       "    }\n",
       "</style>\n",
       "<table border=\"1\" class=\"dataframe\">\n",
       "  <thead>\n",
       "    <tr style=\"text-align: right;\">\n",
       "      <th></th>\n",
       "      <th>carat</th>\n",
       "      <th>cut</th>\n",
       "      <th>color</th>\n",
       "      <th>clarity</th>\n",
       "      <th>depth</th>\n",
       "      <th>table</th>\n",
       "      <th>price</th>\n",
       "      <th>x</th>\n",
       "      <th>y</th>\n",
       "      <th>z</th>\n",
       "    </tr>\n",
       "  </thead>\n",
       "  <tbody>\n",
       "    <tr>\n",
       "      <th>0</th>\n",
       "      <td>0.23</td>\n",
       "      <td>5</td>\n",
       "      <td>E</td>\n",
       "      <td>SI2</td>\n",
       "      <td>61.5</td>\n",
       "      <td>55.0</td>\n",
       "      <td>326</td>\n",
       "      <td>3.95</td>\n",
       "      <td>3.98</td>\n",
       "      <td>2.43</td>\n",
       "    </tr>\n",
       "    <tr>\n",
       "      <th>1</th>\n",
       "      <td>0.21</td>\n",
       "      <td>4</td>\n",
       "      <td>E</td>\n",
       "      <td>SI1</td>\n",
       "      <td>59.8</td>\n",
       "      <td>61.0</td>\n",
       "      <td>326</td>\n",
       "      <td>3.89</td>\n",
       "      <td>3.84</td>\n",
       "      <td>2.31</td>\n",
       "    </tr>\n",
       "    <tr>\n",
       "      <th>2</th>\n",
       "      <td>0.23</td>\n",
       "      <td>2</td>\n",
       "      <td>E</td>\n",
       "      <td>VS1</td>\n",
       "      <td>56.9</td>\n",
       "      <td>65.0</td>\n",
       "      <td>327</td>\n",
       "      <td>4.05</td>\n",
       "      <td>4.07</td>\n",
       "      <td>2.31</td>\n",
       "    </tr>\n",
       "    <tr>\n",
       "      <th>3</th>\n",
       "      <td>0.29</td>\n",
       "      <td>4</td>\n",
       "      <td>I</td>\n",
       "      <td>VS2</td>\n",
       "      <td>62.4</td>\n",
       "      <td>58.0</td>\n",
       "      <td>334</td>\n",
       "      <td>4.20</td>\n",
       "      <td>4.23</td>\n",
       "      <td>2.63</td>\n",
       "    </tr>\n",
       "    <tr>\n",
       "      <th>4</th>\n",
       "      <td>0.31</td>\n",
       "      <td>2</td>\n",
       "      <td>J</td>\n",
       "      <td>SI2</td>\n",
       "      <td>63.3</td>\n",
       "      <td>58.0</td>\n",
       "      <td>335</td>\n",
       "      <td>4.34</td>\n",
       "      <td>4.35</td>\n",
       "      <td>2.75</td>\n",
       "    </tr>\n",
       "  </tbody>\n",
       "</table>\n",
       "</div>"
      ],
      "text/plain": [
       "   carat cut color clarity  depth  table  price     x     y     z\n",
       "0   0.23   5     E     SI2   61.5   55.0    326  3.95  3.98  2.43\n",
       "1   0.21   4     E     SI1   59.8   61.0    326  3.89  3.84  2.31\n",
       "2   0.23   2     E     VS1   56.9   65.0    327  4.05  4.07  2.31\n",
       "3   0.29   4     I     VS2   62.4   58.0    334  4.20  4.23  2.63\n",
       "4   0.31   2     J     SI2   63.3   58.0    335  4.34  4.35  2.75"
      ]
     },
     "execution_count": 393,
     "metadata": {},
     "output_type": "execute_result"
    }
   ],
   "source": [
    "data_num.head()"
   ]
  },
  {
   "cell_type": "code",
   "execution_count": 395,
   "id": "07846a3d-26e0-497e-9d9c-264310bc465b",
   "metadata": {
    "scrolled": true
   },
   "outputs": [
    {
     "data": {
      "text/plain": [
       "['E', 'I', 'J', 'H', 'F', 'G', 'D']\n",
       "Categories (7, object): ['D', 'E', 'F', 'G', 'H', 'I', 'J']"
      ]
     },
     "execution_count": 395,
     "metadata": {},
     "output_type": "execute_result"
    }
   ],
   "source": [
    "#*notices color as well* *and clarity*\n",
    "data_num['color'].unique()\n"
   ]
  },
  {
   "cell_type": "markdown",
   "id": "f7b60c78-b3f4-425e-8a7a-5113c92619ee",
   "metadata": {},
   "source": [
    "Quick personal comment - this assignment is flowing MUCH (exponentially) smoother with being a topic of interest to where I am naturally drawn to develop the data further, experiment, and go beyond bear minimum... Thank you - the fires one wasn't too bad either. I would bet most people taking this course will be going into finances/business or observable sciences. ;)"
   ]
  },
  {
   "cell_type": "code",
   "execution_count": 398,
   "id": "6af6d694-0f1f-4c54-9d4f-2ebbeb2747da",
   "metadata": {},
   "outputs": [
    {
     "name": "stderr",
     "output_type": "stream",
     "text": [
      "C:\\Users\\TempK\\AppData\\Local\\Temp\\ipykernel_22000\\919156502.py:1: FutureWarning: The behavior of Series.replace (and DataFrame.replace) with CategoricalDtype is deprecated. In a future version, replace will only be used for cases that preserve the categories. To change the categories, use ser.cat.rename_categories instead.\n",
      "  data_num['color'] = data_num['color'].replace({'J' : '1', 'I' : '2', 'H' : '3', 'G' : '4', 'F': '5', 'E': '6', 'D' : '7'})\n"
     ]
    }
   ],
   "source": [
    "data_num['color'] = data_num['color'].replace({'J' : '1', 'I' : '2', 'H' : '3', 'G' : '4', 'F': '5', 'E': '6', 'D' : '7'})"
   ]
  },
  {
   "cell_type": "code",
   "execution_count": 400,
   "id": "1f0e3a97-f3c1-44f8-a8c6-c8b5b81f2589",
   "metadata": {},
   "outputs": [
    {
     "data": {
      "text/plain": [
       "['SI2', 'SI1', 'VS1', 'VS2', 'VVS2', 'VVS1', 'I1', 'IF']\n",
       "Categories (8, object): ['IF', 'VVS1', 'VVS2', 'VS1', 'VS2', 'SI1', 'SI2', 'I1']"
      ]
     },
     "execution_count": 400,
     "metadata": {},
     "output_type": "execute_result"
    }
   ],
   "source": [
    "data_num['clarity'].unique()"
   ]
  },
  {
   "cell_type": "code",
   "execution_count": 402,
   "id": "eaa50045-7e9e-4c9a-80fa-da3214439684",
   "metadata": {},
   "outputs": [
    {
     "name": "stderr",
     "output_type": "stream",
     "text": [
      "C:\\Users\\TempK\\AppData\\Local\\Temp\\ipykernel_22000\\2099979538.py:1: FutureWarning: The behavior of Series.replace (and DataFrame.replace) with CategoricalDtype is deprecated. In a future version, replace will only be used for cases that preserve the categories. To change the categories, use ser.cat.rename_categories instead.\n",
      "  data_num['clarity'] = data_num['clarity'].replace({'I1' : '1', 'SI2' : '2', 'SI1' : '3', 'VS2' : '4', 'VS1' : '5', 'VVS2' : '6', 'VVS1' : '7', 'IF' : '8'})\n"
     ]
    }
   ],
   "source": [
    "data_num['clarity'] = data_num['clarity'].replace({'I1' : '1', 'SI2' : '2', 'SI1' : '3', 'VS2' : '4', 'VS1' : '5', 'VVS2' : '6', 'VVS1' : '7', 'IF' : '8'})"
   ]
  },
  {
   "cell_type": "code",
   "execution_count": 404,
   "id": "c076b6c6-9b29-4e51-9c6e-d8bed7bd4567",
   "metadata": {},
   "outputs": [
    {
     "name": "stdout",
     "output_type": "stream",
     "text": [
      "<class 'pandas.core.frame.DataFrame'>\n",
      "RangeIndex: 53940 entries, 0 to 53939\n",
      "Data columns (total 10 columns):\n",
      " #   Column   Non-Null Count  Dtype   \n",
      "---  ------   --------------  -----   \n",
      " 0   carat    53940 non-null  float64 \n",
      " 1   cut      53940 non-null  category\n",
      " 2   color    53940 non-null  category\n",
      " 3   clarity  53940 non-null  category\n",
      " 4   depth    53940 non-null  float64 \n",
      " 5   table    53940 non-null  float64 \n",
      " 6   price    53940 non-null  int64   \n",
      " 7   x        53940 non-null  float64 \n",
      " 8   y        53940 non-null  float64 \n",
      " 9   z        53940 non-null  float64 \n",
      "dtypes: category(3), float64(6), int64(1)\n",
      "memory usage: 3.0 MB\n"
     ]
    }
   ],
   "source": [
    "data_num.info()"
   ]
  },
  {
   "cell_type": "code",
   "execution_count": 406,
   "id": "001f0f85-3eec-4c38-8d63-6bb4a125a800",
   "metadata": {},
   "outputs": [
    {
     "data": {
      "text/html": [
       "<div>\n",
       "<style scoped>\n",
       "    .dataframe tbody tr th:only-of-type {\n",
       "        vertical-align: middle;\n",
       "    }\n",
       "\n",
       "    .dataframe tbody tr th {\n",
       "        vertical-align: top;\n",
       "    }\n",
       "\n",
       "    .dataframe thead th {\n",
       "        text-align: right;\n",
       "    }\n",
       "</style>\n",
       "<table border=\"1\" class=\"dataframe\">\n",
       "  <thead>\n",
       "    <tr style=\"text-align: right;\">\n",
       "      <th></th>\n",
       "      <th>carat</th>\n",
       "      <th>cut</th>\n",
       "      <th>color</th>\n",
       "      <th>clarity</th>\n",
       "      <th>depth</th>\n",
       "      <th>table</th>\n",
       "      <th>price</th>\n",
       "      <th>x</th>\n",
       "      <th>y</th>\n",
       "      <th>z</th>\n",
       "    </tr>\n",
       "  </thead>\n",
       "  <tbody>\n",
       "    <tr>\n",
       "      <th>0</th>\n",
       "      <td>0.23</td>\n",
       "      <td>5</td>\n",
       "      <td>6</td>\n",
       "      <td>2</td>\n",
       "      <td>61.5</td>\n",
       "      <td>55.0</td>\n",
       "      <td>326</td>\n",
       "      <td>3.95</td>\n",
       "      <td>3.98</td>\n",
       "      <td>2.43</td>\n",
       "    </tr>\n",
       "    <tr>\n",
       "      <th>1</th>\n",
       "      <td>0.21</td>\n",
       "      <td>4</td>\n",
       "      <td>6</td>\n",
       "      <td>3</td>\n",
       "      <td>59.8</td>\n",
       "      <td>61.0</td>\n",
       "      <td>326</td>\n",
       "      <td>3.89</td>\n",
       "      <td>3.84</td>\n",
       "      <td>2.31</td>\n",
       "    </tr>\n",
       "    <tr>\n",
       "      <th>2</th>\n",
       "      <td>0.23</td>\n",
       "      <td>2</td>\n",
       "      <td>6</td>\n",
       "      <td>5</td>\n",
       "      <td>56.9</td>\n",
       "      <td>65.0</td>\n",
       "      <td>327</td>\n",
       "      <td>4.05</td>\n",
       "      <td>4.07</td>\n",
       "      <td>2.31</td>\n",
       "    </tr>\n",
       "    <tr>\n",
       "      <th>3</th>\n",
       "      <td>0.29</td>\n",
       "      <td>4</td>\n",
       "      <td>2</td>\n",
       "      <td>4</td>\n",
       "      <td>62.4</td>\n",
       "      <td>58.0</td>\n",
       "      <td>334</td>\n",
       "      <td>4.20</td>\n",
       "      <td>4.23</td>\n",
       "      <td>2.63</td>\n",
       "    </tr>\n",
       "    <tr>\n",
       "      <th>4</th>\n",
       "      <td>0.31</td>\n",
       "      <td>2</td>\n",
       "      <td>1</td>\n",
       "      <td>2</td>\n",
       "      <td>63.3</td>\n",
       "      <td>58.0</td>\n",
       "      <td>335</td>\n",
       "      <td>4.34</td>\n",
       "      <td>4.35</td>\n",
       "      <td>2.75</td>\n",
       "    </tr>\n",
       "  </tbody>\n",
       "</table>\n",
       "</div>"
      ],
      "text/plain": [
       "   carat cut color clarity  depth  table  price     x     y     z\n",
       "0   0.23   5     6       2   61.5   55.0    326  3.95  3.98  2.43\n",
       "1   0.21   4     6       3   59.8   61.0    326  3.89  3.84  2.31\n",
       "2   0.23   2     6       5   56.9   65.0    327  4.05  4.07  2.31\n",
       "3   0.29   4     2       4   62.4   58.0    334  4.20  4.23  2.63\n",
       "4   0.31   2     1       2   63.3   58.0    335  4.34  4.35  2.75"
      ]
     },
     "execution_count": 406,
     "metadata": {},
     "output_type": "execute_result"
    }
   ],
   "source": [
    "data_num.head()"
   ]
  },
  {
   "cell_type": "code",
   "execution_count": 408,
   "id": "c6a65f2f-d519-484e-83bd-f9d6deffb267",
   "metadata": {},
   "outputs": [
    {
     "data": {
      "text/html": [
       "<div>\n",
       "<style scoped>\n",
       "    .dataframe tbody tr th:only-of-type {\n",
       "        vertical-align: middle;\n",
       "    }\n",
       "\n",
       "    .dataframe tbody tr th {\n",
       "        vertical-align: top;\n",
       "    }\n",
       "\n",
       "    .dataframe thead th {\n",
       "        text-align: right;\n",
       "    }\n",
       "</style>\n",
       "<table border=\"1\" class=\"dataframe\">\n",
       "  <thead>\n",
       "    <tr style=\"text-align: right;\">\n",
       "      <th></th>\n",
       "      <th>carat</th>\n",
       "      <th>cut</th>\n",
       "      <th>color</th>\n",
       "      <th>clarity</th>\n",
       "      <th>depth</th>\n",
       "      <th>table</th>\n",
       "      <th>price</th>\n",
       "      <th>x</th>\n",
       "      <th>y</th>\n",
       "      <th>z</th>\n",
       "    </tr>\n",
       "  </thead>\n",
       "  <tbody>\n",
       "    <tr>\n",
       "      <th>carat</th>\n",
       "      <td>1.000000</td>\n",
       "      <td>-0.134967</td>\n",
       "      <td>-0.291437</td>\n",
       "      <td>-0.352841</td>\n",
       "      <td>0.028224</td>\n",
       "      <td>0.181618</td>\n",
       "      <td>0.921591</td>\n",
       "      <td>0.975094</td>\n",
       "      <td>0.951722</td>\n",
       "      <td>0.953387</td>\n",
       "    </tr>\n",
       "    <tr>\n",
       "      <th>cut</th>\n",
       "      <td>-0.134967</td>\n",
       "      <td>1.000000</td>\n",
       "      <td>0.020519</td>\n",
       "      <td>0.189175</td>\n",
       "      <td>-0.218055</td>\n",
       "      <td>-0.433405</td>\n",
       "      <td>-0.053491</td>\n",
       "      <td>-0.125565</td>\n",
       "      <td>-0.121462</td>\n",
       "      <td>-0.149323</td>\n",
       "    </tr>\n",
       "    <tr>\n",
       "      <th>color</th>\n",
       "      <td>-0.291437</td>\n",
       "      <td>0.020519</td>\n",
       "      <td>1.000000</td>\n",
       "      <td>-0.025631</td>\n",
       "      <td>-0.047279</td>\n",
       "      <td>-0.026465</td>\n",
       "      <td>-0.172511</td>\n",
       "      <td>-0.270287</td>\n",
       "      <td>-0.263584</td>\n",
       "      <td>-0.268227</td>\n",
       "    </tr>\n",
       "    <tr>\n",
       "      <th>clarity</th>\n",
       "      <td>-0.352841</td>\n",
       "      <td>0.189175</td>\n",
       "      <td>-0.025631</td>\n",
       "      <td>1.000000</td>\n",
       "      <td>-0.067384</td>\n",
       "      <td>-0.160327</td>\n",
       "      <td>-0.146800</td>\n",
       "      <td>-0.371999</td>\n",
       "      <td>-0.358420</td>\n",
       "      <td>-0.366952</td>\n",
       "    </tr>\n",
       "    <tr>\n",
       "      <th>depth</th>\n",
       "      <td>0.028224</td>\n",
       "      <td>-0.218055</td>\n",
       "      <td>-0.047279</td>\n",
       "      <td>-0.067384</td>\n",
       "      <td>1.000000</td>\n",
       "      <td>-0.295779</td>\n",
       "      <td>-0.010647</td>\n",
       "      <td>-0.025289</td>\n",
       "      <td>-0.029341</td>\n",
       "      <td>0.094924</td>\n",
       "    </tr>\n",
       "    <tr>\n",
       "      <th>table</th>\n",
       "      <td>0.181618</td>\n",
       "      <td>-0.433405</td>\n",
       "      <td>-0.026465</td>\n",
       "      <td>-0.160327</td>\n",
       "      <td>-0.295779</td>\n",
       "      <td>1.000000</td>\n",
       "      <td>0.127134</td>\n",
       "      <td>0.195344</td>\n",
       "      <td>0.183760</td>\n",
       "      <td>0.150929</td>\n",
       "    </tr>\n",
       "    <tr>\n",
       "      <th>price</th>\n",
       "      <td>0.921591</td>\n",
       "      <td>-0.053491</td>\n",
       "      <td>-0.172511</td>\n",
       "      <td>-0.146800</td>\n",
       "      <td>-0.010647</td>\n",
       "      <td>0.127134</td>\n",
       "      <td>1.000000</td>\n",
       "      <td>0.884435</td>\n",
       "      <td>0.865421</td>\n",
       "      <td>0.861249</td>\n",
       "    </tr>\n",
       "    <tr>\n",
       "      <th>x</th>\n",
       "      <td>0.975094</td>\n",
       "      <td>-0.125565</td>\n",
       "      <td>-0.270287</td>\n",
       "      <td>-0.371999</td>\n",
       "      <td>-0.025289</td>\n",
       "      <td>0.195344</td>\n",
       "      <td>0.884435</td>\n",
       "      <td>1.000000</td>\n",
       "      <td>0.974701</td>\n",
       "      <td>0.970772</td>\n",
       "    </tr>\n",
       "    <tr>\n",
       "      <th>y</th>\n",
       "      <td>0.951722</td>\n",
       "      <td>-0.121462</td>\n",
       "      <td>-0.263584</td>\n",
       "      <td>-0.358420</td>\n",
       "      <td>-0.029341</td>\n",
       "      <td>0.183760</td>\n",
       "      <td>0.865421</td>\n",
       "      <td>0.974701</td>\n",
       "      <td>1.000000</td>\n",
       "      <td>0.952006</td>\n",
       "    </tr>\n",
       "    <tr>\n",
       "      <th>z</th>\n",
       "      <td>0.953387</td>\n",
       "      <td>-0.149323</td>\n",
       "      <td>-0.268227</td>\n",
       "      <td>-0.366952</td>\n",
       "      <td>0.094924</td>\n",
       "      <td>0.150929</td>\n",
       "      <td>0.861249</td>\n",
       "      <td>0.970772</td>\n",
       "      <td>0.952006</td>\n",
       "      <td>1.000000</td>\n",
       "    </tr>\n",
       "  </tbody>\n",
       "</table>\n",
       "</div>"
      ],
      "text/plain": [
       "            carat       cut     color   clarity     depth     table     price  \\\n",
       "carat    1.000000 -0.134967 -0.291437 -0.352841  0.028224  0.181618  0.921591   \n",
       "cut     -0.134967  1.000000  0.020519  0.189175 -0.218055 -0.433405 -0.053491   \n",
       "color   -0.291437  0.020519  1.000000 -0.025631 -0.047279 -0.026465 -0.172511   \n",
       "clarity -0.352841  0.189175 -0.025631  1.000000 -0.067384 -0.160327 -0.146800   \n",
       "depth    0.028224 -0.218055 -0.047279 -0.067384  1.000000 -0.295779 -0.010647   \n",
       "table    0.181618 -0.433405 -0.026465 -0.160327 -0.295779  1.000000  0.127134   \n",
       "price    0.921591 -0.053491 -0.172511 -0.146800 -0.010647  0.127134  1.000000   \n",
       "x        0.975094 -0.125565 -0.270287 -0.371999 -0.025289  0.195344  0.884435   \n",
       "y        0.951722 -0.121462 -0.263584 -0.358420 -0.029341  0.183760  0.865421   \n",
       "z        0.953387 -0.149323 -0.268227 -0.366952  0.094924  0.150929  0.861249   \n",
       "\n",
       "                x         y         z  \n",
       "carat    0.975094  0.951722  0.953387  \n",
       "cut     -0.125565 -0.121462 -0.149323  \n",
       "color   -0.270287 -0.263584 -0.268227  \n",
       "clarity -0.371999 -0.358420 -0.366952  \n",
       "depth   -0.025289 -0.029341  0.094924  \n",
       "table    0.195344  0.183760  0.150929  \n",
       "price    0.884435  0.865421  0.861249  \n",
       "x        1.000000  0.974701  0.970772  \n",
       "y        0.974701  1.000000  0.952006  \n",
       "z        0.970772  0.952006  1.000000  "
      ]
     },
     "execution_count": 408,
     "metadata": {},
     "output_type": "execute_result"
    }
   ],
   "source": [
    "data_num.corr()"
   ]
  },
  {
   "cell_type": "markdown",
   "id": "92be336a-2c54-47d1-93d0-de66eb181e75",
   "metadata": {},
   "source": [
    "I know directions say first seven rows but I went on a limb here wanting to see the correlations with the cut, color, and clarity. I tried inversing the numerical assignment for cut and same values stand which are very fascinating... I'd be curious to see where this data comes from."
   ]
  },
  {
   "cell_type": "code",
   "execution_count": 411,
   "id": "2b07dbe4-5a2f-4358-8c03-e26587f3b1e7",
   "metadata": {},
   "outputs": [
    {
     "data": {
      "text/plain": [
       "<Axes: >"
      ]
     },
     "execution_count": 411,
     "metadata": {},
     "output_type": "execute_result"
    },
    {
     "data": {
      "image/png": "[encoded data removed]",
      "text/plain": [
       "<Figure size 640x480 with 1 Axes>"
      ]
     },
     "metadata": {},
     "output_type": "display_data"
    }
   ],
   "source": [
    "sns.heatmap(data=data_num.corr()[['price']].sort_values(by='price', ascending=False), \n",
    "            annot=True, cmap='Blues', cbar=False, fmt=f'.3f')"
   ]
  },
  {
   "cell_type": "markdown",
   "id": "3be45f07-09ea-4fc0-b400-1ea627d165d5",
   "metadata": {},
   "source": [
    "## Procedure for Creating and Using a Regression Model ##\n",
    "\n",
    "1. Split the data between training and testing\n",
    "2. Create model from training data\n",
    "3. Validate the model with the test data and evaluate accuracy\n",
    "4. Adjust if needed and deploy onto desired data for prediction"
   ]
  },
  {
   "cell_type": "code",
   "execution_count": 414,
   "id": "f6231b4f-677c-444a-9513-f44cc12a146c",
   "metadata": {},
   "outputs": [],
   "source": [
    "from sklearn.linear_model import LinearRegression\n",
    "from sklearn.model_selection import train_test_split "
   ]
  },
  {
   "cell_type": "code",
   "execution_count": 416,
   "id": "76f4a89c-1674-4142-8e48-3a7b286732aa",
   "metadata": {},
   "outputs": [
    {
     "data": {
      "text/plain": [
       "0.8504107786474794"
      ]
     },
     "execution_count": 416,
     "metadata": {},
     "output_type": "execute_result"
    }
   ],
   "source": [
    "x_train, x_test, y_train, y_test = train_test_split(\n",
    "    data_num[['carat']], data_num[['price']], \n",
    "    test_size=0.30, random_state=20)\n",
    "\n",
    "Model = LinearRegression()\n",
    "Model.fit(x_train, y_train)\n",
    "\n",
    "Model.score(x_test, y_test)"
   ]
  },
  {
   "cell_type": "code",
   "execution_count": 418,
   "id": "e60c188d-f6b4-41ef-8fff-1c72f67a99b3",
   "metadata": {},
   "outputs": [
    {
     "data": {
      "text/plain": [
       "array([[9540.64191438],\n",
       "       [1940.07543252],\n",
       "       [3180.98424589],\n",
       "       ...,\n",
       "       [9618.19871522],\n",
       "       [-464.18539337],\n",
       "       [5507.68827094]])"
      ]
     },
     "execution_count": 418,
     "metadata": {},
     "output_type": "execute_result"
    }
   ],
   "source": [
    "y_predicted = Model.predict(x_test)\n",
    "y_predicted"
   ]
  },
  {
   "cell_type": "code",
   "execution_count": 420,
   "id": "ec0493f4-d061-44af-bf81-a39ca6630221",
   "metadata": {},
   "outputs": [
    {
     "data": {
      "text/html": [
       "<div>\n",
       "<style scoped>\n",
       "    .dataframe tbody tr th:only-of-type {\n",
       "        vertical-align: middle;\n",
       "    }\n",
       "\n",
       "    .dataframe tbody tr th {\n",
       "        vertical-align: top;\n",
       "    }\n",
       "\n",
       "    .dataframe thead th {\n",
       "        text-align: right;\n",
       "    }\n",
       "</style>\n",
       "<table border=\"1\" class=\"dataframe\">\n",
       "  <thead>\n",
       "    <tr style=\"text-align: right;\">\n",
       "      <th></th>\n",
       "      <th>predicted_price</th>\n",
       "    </tr>\n",
       "  </thead>\n",
       "  <tbody>\n",
       "    <tr>\n",
       "      <th>0</th>\n",
       "      <td>9540.641914</td>\n",
       "    </tr>\n",
       "    <tr>\n",
       "      <th>1</th>\n",
       "      <td>1940.075433</td>\n",
       "    </tr>\n",
       "    <tr>\n",
       "      <th>2</th>\n",
       "      <td>3180.984246</td>\n",
       "    </tr>\n",
       "  </tbody>\n",
       "</table>\n",
       "</div>"
      ],
      "text/plain": [
       "   predicted_price\n",
       "0      9540.641914\n",
       "1      1940.075433\n",
       "2      3180.984246"
      ]
     },
     "execution_count": 420,
     "metadata": {},
     "output_type": "execute_result"
    }
   ],
   "source": [
    "p_data = pd.DataFrame(y_predicted, columns=['predicted_price'])\n",
    "\n",
    "p_data.head(3)"
   ]
  },
  {
   "cell_type": "code",
   "execution_count": 422,
   "id": "c7f0cdc5-3e70-4404-936a-6491d398e3aa",
   "metadata": {},
   "outputs": [],
   "source": [
    "comb_data = p_data.join([x_test.reset_index(drop=True),\n",
    "                           y_test.reset_index(drop=True)])"
   ]
  },
  {
   "cell_type": "code",
   "execution_count": 424,
   "id": "db75e062-7cd0-464b-82e2-f7b6a61550cc",
   "metadata": {},
   "outputs": [
    {
     "data": {
      "text/html": [
       "<div>\n",
       "<style scoped>\n",
       "    .dataframe tbody tr th:only-of-type {\n",
       "        vertical-align: middle;\n",
       "    }\n",
       "\n",
       "    .dataframe tbody tr th {\n",
       "        vertical-align: top;\n",
       "    }\n",
       "\n",
       "    .dataframe thead th {\n",
       "        text-align: right;\n",
       "    }\n",
       "</style>\n",
       "<table border=\"1\" class=\"dataframe\">\n",
       "  <thead>\n",
       "    <tr style=\"text-align: right;\">\n",
       "      <th></th>\n",
       "      <th>predicted_price</th>\n",
       "      <th>carat</th>\n",
       "      <th>price</th>\n",
       "    </tr>\n",
       "  </thead>\n",
       "  <tbody>\n",
       "    <tr>\n",
       "      <th>0</th>\n",
       "      <td>9540.641914</td>\n",
       "      <td>1.52</td>\n",
       "      <td>8674</td>\n",
       "    </tr>\n",
       "    <tr>\n",
       "      <th>1</th>\n",
       "      <td>1940.075433</td>\n",
       "      <td>0.54</td>\n",
       "      <td>1637</td>\n",
       "    </tr>\n",
       "    <tr>\n",
       "      <th>2</th>\n",
       "      <td>3180.984246</td>\n",
       "      <td>0.70</td>\n",
       "      <td>2657</td>\n",
       "    </tr>\n",
       "    <tr>\n",
       "      <th>3</th>\n",
       "      <td>2327.859437</td>\n",
       "      <td>0.59</td>\n",
       "      <td>1838</td>\n",
       "    </tr>\n",
       "    <tr>\n",
       "      <th>4</th>\n",
       "      <td>4421.893059</td>\n",
       "      <td>0.86</td>\n",
       "      <td>2980</td>\n",
       "    </tr>\n",
       "  </tbody>\n",
       "</table>\n",
       "</div>"
      ],
      "text/plain": [
       "   predicted_price  carat  price\n",
       "0      9540.641914   1.52   8674\n",
       "1      1940.075433   0.54   1637\n",
       "2      3180.984246   0.70   2657\n",
       "3      2327.859437   0.59   1838\n",
       "4      4421.893059   0.86   2980"
      ]
     },
     "execution_count": 424,
     "metadata": {},
     "output_type": "execute_result"
    }
   ],
   "source": [
    "comb_data.head()"
   ]
  },
  {
   "cell_type": "code",
   "execution_count": 426,
   "id": "b3a894c2-77f4-4c38-bc47-498c452ef8eb",
   "metadata": {},
   "outputs": [
    {
     "data": {
      "text/html": [
       "<div>\n",
       "<style scoped>\n",
       "    .dataframe tbody tr th:only-of-type {\n",
       "        vertical-align: middle;\n",
       "    }\n",
       "\n",
       "    .dataframe tbody tr th {\n",
       "        vertical-align: top;\n",
       "    }\n",
       "\n",
       "    .dataframe thead th {\n",
       "        text-align: right;\n",
       "    }\n",
       "</style>\n",
       "<table border=\"1\" class=\"dataframe\">\n",
       "  <thead>\n",
       "    <tr style=\"text-align: right;\">\n",
       "      <th></th>\n",
       "      <th>carat</th>\n",
       "      <th>price_type</th>\n",
       "      <th>price_value</th>\n",
       "    </tr>\n",
       "  </thead>\n",
       "  <tbody>\n",
       "    <tr>\n",
       "      <th>0</th>\n",
       "      <td>1.52</td>\n",
       "      <td>price</td>\n",
       "      <td>8674.000000</td>\n",
       "    </tr>\n",
       "    <tr>\n",
       "      <th>1</th>\n",
       "      <td>0.54</td>\n",
       "      <td>price</td>\n",
       "      <td>1637.000000</td>\n",
       "    </tr>\n",
       "    <tr>\n",
       "      <th>2</th>\n",
       "      <td>0.70</td>\n",
       "      <td>price</td>\n",
       "      <td>2657.000000</td>\n",
       "    </tr>\n",
       "    <tr>\n",
       "      <th>3</th>\n",
       "      <td>0.59</td>\n",
       "      <td>price</td>\n",
       "      <td>1838.000000</td>\n",
       "    </tr>\n",
       "    <tr>\n",
       "      <th>4</th>\n",
       "      <td>0.86</td>\n",
       "      <td>price</td>\n",
       "      <td>2980.000000</td>\n",
       "    </tr>\n",
       "    <tr>\n",
       "      <th>...</th>\n",
       "      <td>...</td>\n",
       "      <td>...</td>\n",
       "      <td>...</td>\n",
       "    </tr>\n",
       "    <tr>\n",
       "      <th>32359</th>\n",
       "      <td>0.31</td>\n",
       "      <td>predicted_price</td>\n",
       "      <td>156.269013</td>\n",
       "    </tr>\n",
       "    <tr>\n",
       "      <th>32360</th>\n",
       "      <td>1.01</td>\n",
       "      <td>predicted_price</td>\n",
       "      <td>5585.245072</td>\n",
       "    </tr>\n",
       "    <tr>\n",
       "      <th>32361</th>\n",
       "      <td>1.53</td>\n",
       "      <td>predicted_price</td>\n",
       "      <td>9618.198715</td>\n",
       "    </tr>\n",
       "    <tr>\n",
       "      <th>32362</th>\n",
       "      <td>0.23</td>\n",
       "      <td>predicted_price</td>\n",
       "      <td>-464.185393</td>\n",
       "    </tr>\n",
       "    <tr>\n",
       "      <th>32363</th>\n",
       "      <td>1.00</td>\n",
       "      <td>predicted_price</td>\n",
       "      <td>5507.688271</td>\n",
       "    </tr>\n",
       "  </tbody>\n",
       "</table>\n",
       "<p>32364 rows × 3 columns</p>\n",
       "</div>"
      ],
      "text/plain": [
       "       carat       price_type  price_value\n",
       "0       1.52            price  8674.000000\n",
       "1       0.54            price  1637.000000\n",
       "2       0.70            price  2657.000000\n",
       "3       0.59            price  1838.000000\n",
       "4       0.86            price  2980.000000\n",
       "...      ...              ...          ...\n",
       "32359   0.31  predicted_price   156.269013\n",
       "32360   1.01  predicted_price  5585.245072\n",
       "32361   1.53  predicted_price  9618.198715\n",
       "32362   0.23  predicted_price  -464.185393\n",
       "32363   1.00  predicted_price  5507.688271\n",
       "\n",
       "[32364 rows x 3 columns]"
      ]
     },
     "execution_count": 426,
     "metadata": {},
     "output_type": "execute_result"
    }
   ],
   "source": [
    "melt_data = pd.melt(comb_data, id_vars=['carat'], \n",
    "                 value_vars=['price','predicted_price'], \n",
    "                 var_name='price_type', value_name='price_value')\n",
    "melt_data"
   ]
  },
  {
   "cell_type": "code",
   "execution_count": 428,
   "id": "ef2f1905-cbe7-4703-b94e-d969c6a2816a",
   "metadata": {},
   "outputs": [
    {
     "name": "stderr",
     "output_type": "stream",
     "text": [
      "C:\\Users\\TempK\\AppData\\Local\\Temp\\ipykernel_22000\\3111412975.py:1: FutureWarning: \n",
      "\n",
      "The `ci` parameter is deprecated. Use `errorbar=None` for the same effect.\n",
      "\n",
      "  sns.lineplot(data=melt_data, x='carat', y='price_value',ci = None, hue='price_type')\n"
     ]
    },
    {
     "data": {
      "text/plain": [
       "<Axes: xlabel='carat', ylabel='price_value'>"
      ]
     },
     "execution_count": 428,
     "metadata": {},
     "output_type": "execute_result"
    },
    {
     "data": {
      "image/png": "[encoded data removed]",
      "text/plain": [
       "<Figure size 640x480 with 1 Axes>"
      ]
     },
     "metadata": {},
     "output_type": "display_data"
    }
   ],
   "source": [
    "sns.lineplot(data=melt_data, x='carat', y='price_value',ci = None, hue='price_type')"
   ]
  },
  {
   "cell_type": "markdown",
   "id": "12495e0f-0d0b-4c3f-80f3-02638529db0a",
   "metadata": {},
   "source": [
    "## Regression line equation is **y = mx + b**, where... ###\n",
    "- y is the **dependent** variable\n",
    "- m is the **slope** of the line\n",
    "- x is the **independent** variable\n",
    "- b is the **Y-intercept**"
   ]
  },
  {
   "cell_type": "code",
   "execution_count": 431,
   "id": "023269de-7a11-4b0b-a76a-8c54857f2ec9",
   "metadata": {},
   "outputs": [],
   "source": [
    "X = data.carat.values.reshape(-1,1)\n",
    "y = data.price"
   ]
  },
  {
   "cell_type": "code",
   "execution_count": 433,
   "id": "51e89ad7-c480-47c6-9d61-d61b1cff0a24",
   "metadata": {},
   "outputs": [],
   "source": [
    "lr = LinearRegression()\n",
    "predicted = lr.fit(X,y)"
   ]
  },
  {
   "cell_type": "code",
   "execution_count": 437,
   "id": "6904869c-4282-4c29-9d73-d4b6a12fd011",
   "metadata": {},
   "outputs": [
    {
     "name": "stdout",
     "output_type": "stream",
     "text": [
      "The slope is [7756.42561797] and the y-intercept is -2256.3605800452183\n"
     ]
    }
   ],
   "source": [
    "m = predicted.coef_\n",
    "b = predicted.intercept_\n",
    "print(f'The slope is {m} and the y-intercept is {b}')"
   ]
  },
  {
   "cell_type": "code",
   "execution_count": 439,
   "id": "77972661-e6c8-421d-bd97-36f8f7d89e61",
   "metadata": {},
   "outputs": [
    {
     "name": "stdout",
     "output_type": "stream",
     "text": [
      "Regression line equation is y=[7756.42561797]x + -2256.3605800452183\n"
     ]
    }
   ],
   "source": [
    "print(f'Regression line equation is y={m}x + {b}')"
   ]
  },
  {
   "cell_type": "code",
   "execution_count": 467,
   "id": "d2999ef1-6c5c-421e-8282-c5532e194d5b",
   "metadata": {},
   "outputs": [
    {
     "name": "stdin",
     "output_type": "stream",
     "text": [
      "Hello, please enter carat size .70\n"
     ]
    },
    {
     "name": "stdout",
     "output_type": "stream",
     "text": [
      "The predicted price for a 0.7 carat diamond is $[3173.13735253]\n"
     ]
    }
   ],
   "source": [
    "\n",
    "def main():\n",
    "    x = float(input('Hello, please enter carat size'))\n",
    "    Y = m*x + b\n",
    "    print(f'The predicted price for a {x} carat diamond is ${Y}')\n",
    "\n",
    "main()"
   ]
  },
  {
   "cell_type": "code",
   "execution_count": 470,
   "id": "0d47d6f7-f220-486e-b850-9192dc18e5ff",
   "metadata": {},
   "outputs": [
    {
     "name": "stdin",
     "output_type": "stream",
     "text": [
      "Hello, please enter carat size .54\n"
     ]
    },
    {
     "name": "stdout",
     "output_type": "stream",
     "text": [
      "The predicted price for a 0.54 carat diamond is $[1932.10925366]\n"
     ]
    }
   ],
   "source": [
    "def main():\n",
    "    x = float(input('Hello, please enter carat size'))\n",
    "    Y = m*x + b\n",
    "    print(f'The predicted price for a {x} carat diamond is ${Y}')\n",
    "\n",
    "main()"
   ]
  },
  {
   "cell_type": "markdown",
   "id": "a3ea392a-b122-486d-ac23-39c8aeba39ac",
   "metadata": {},
   "source": [
    "Yes I'd say they're close enough - is the small difference arising from the sigfigs used in the **.reshape** function?"
   ]
  },
  {
   "cell_type": "markdown",
   "id": "1f927687-d280-4ea3-8692-f555d4f37a61",
   "metadata": {},
   "source": [
    "_______________________\n"
   ]
  },
  {
   "cell_type": "markdown",
   "id": "8cf0d833-cfbe-41a5-bf98-e2f7f32ea6bc",
   "metadata": {},
   "source": [
    "Personal Experimentation:"
   ]
  },
  {
   "cell_type": "code",
   "execution_count": 710,
   "id": "6c0ac88f-ef0f-4a35-ad81-3364b3f90db0",
   "metadata": {},
   "outputs": [],
   "source": [
    "ref_data = data_num.query('carat < 1.15 and carat > .85')"
   ]
  },
  {
   "cell_type": "code",
   "execution_count": 712,
   "id": "6f517815-99ff-4920-a154-8a1538c4184b",
   "metadata": {},
   "outputs": [
    {
     "data": {
      "text/html": [
       "<div>\n",
       "<style scoped>\n",
       "    .dataframe tbody tr th:only-of-type {\n",
       "        vertical-align: middle;\n",
       "    }\n",
       "\n",
       "    .dataframe tbody tr th {\n",
       "        vertical-align: top;\n",
       "    }\n",
       "\n",
       "    .dataframe thead th {\n",
       "        text-align: right;\n",
       "    }\n",
       "</style>\n",
       "<table border=\"1\" class=\"dataframe\">\n",
       "  <thead>\n",
       "    <tr style=\"text-align: right;\">\n",
       "      <th></th>\n",
       "      <th>carat</th>\n",
       "      <th>cut</th>\n",
       "      <th>color</th>\n",
       "      <th>clarity</th>\n",
       "      <th>depth</th>\n",
       "      <th>table</th>\n",
       "      <th>price</th>\n",
       "      <th>x</th>\n",
       "      <th>y</th>\n",
       "      <th>z</th>\n",
       "    </tr>\n",
       "  </thead>\n",
       "  <tbody>\n",
       "    <tr>\n",
       "      <th>91</th>\n",
       "      <td>0.86</td>\n",
       "      <td>1</td>\n",
       "      <td>6</td>\n",
       "      <td>2</td>\n",
       "      <td>55.1</td>\n",
       "      <td>69.0</td>\n",
       "      <td>2757</td>\n",
       "      <td>6.45</td>\n",
       "      <td>6.33</td>\n",
       "      <td>3.52</td>\n",
       "    </tr>\n",
       "    <tr>\n",
       "      <th>97</th>\n",
       "      <td>0.96</td>\n",
       "      <td>1</td>\n",
       "      <td>5</td>\n",
       "      <td>2</td>\n",
       "      <td>66.3</td>\n",
       "      <td>62.0</td>\n",
       "      <td>2759</td>\n",
       "      <td>6.27</td>\n",
       "      <td>5.95</td>\n",
       "      <td>4.07</td>\n",
       "    </tr>\n",
       "    <tr>\n",
       "      <th>112</th>\n",
       "      <td>0.90</td>\n",
       "      <td>4</td>\n",
       "      <td>2</td>\n",
       "      <td>4</td>\n",
       "      <td>63.0</td>\n",
       "      <td>58.0</td>\n",
       "      <td>2761</td>\n",
       "      <td>6.16</td>\n",
       "      <td>6.12</td>\n",
       "      <td>3.87</td>\n",
       "    </tr>\n",
       "    <tr>\n",
       "      <th>126</th>\n",
       "      <td>0.91</td>\n",
       "      <td>4</td>\n",
       "      <td>3</td>\n",
       "      <td>3</td>\n",
       "      <td>61.4</td>\n",
       "      <td>56.0</td>\n",
       "      <td>2763</td>\n",
       "      <td>6.09</td>\n",
       "      <td>5.97</td>\n",
       "      <td>3.70</td>\n",
       "    </tr>\n",
       "    <tr>\n",
       "      <th>128</th>\n",
       "      <td>0.91</td>\n",
       "      <td>1</td>\n",
       "      <td>3</td>\n",
       "      <td>2</td>\n",
       "      <td>64.4</td>\n",
       "      <td>57.0</td>\n",
       "      <td>2763</td>\n",
       "      <td>6.11</td>\n",
       "      <td>6.09</td>\n",
       "      <td>3.93</td>\n",
       "    </tr>\n",
       "    <tr>\n",
       "      <th>...</th>\n",
       "      <td>...</td>\n",
       "      <td>...</td>\n",
       "      <td>...</td>\n",
       "      <td>...</td>\n",
       "      <td>...</td>\n",
       "      <td>...</td>\n",
       "      <td>...</td>\n",
       "      <td>...</td>\n",
       "      <td>...</td>\n",
       "      <td>...</td>\n",
       "    </tr>\n",
       "    <tr>\n",
       "      <th>53875</th>\n",
       "      <td>1.04</td>\n",
       "      <td>3</td>\n",
       "      <td>2</td>\n",
       "      <td>1</td>\n",
       "      <td>61.6</td>\n",
       "      <td>61.0</td>\n",
       "      <td>2745</td>\n",
       "      <td>6.45</td>\n",
       "      <td>6.47</td>\n",
       "      <td>3.98</td>\n",
       "    </tr>\n",
       "    <tr>\n",
       "      <th>53879</th>\n",
       "      <td>1.04</td>\n",
       "      <td>1</td>\n",
       "      <td>4</td>\n",
       "      <td>2</td>\n",
       "      <td>65.2</td>\n",
       "      <td>57.0</td>\n",
       "      <td>2745</td>\n",
       "      <td>6.25</td>\n",
       "      <td>6.23</td>\n",
       "      <td>4.07</td>\n",
       "    </tr>\n",
       "    <tr>\n",
       "      <th>53897</th>\n",
       "      <td>1.02</td>\n",
       "      <td>2</td>\n",
       "      <td>3</td>\n",
       "      <td>1</td>\n",
       "      <td>64.3</td>\n",
       "      <td>63.0</td>\n",
       "      <td>2751</td>\n",
       "      <td>6.28</td>\n",
       "      <td>6.23</td>\n",
       "      <td>4.02</td>\n",
       "    </tr>\n",
       "    <tr>\n",
       "      <th>53917</th>\n",
       "      <td>0.90</td>\n",
       "      <td>3</td>\n",
       "      <td>1</td>\n",
       "      <td>3</td>\n",
       "      <td>63.2</td>\n",
       "      <td>60.0</td>\n",
       "      <td>2753</td>\n",
       "      <td>6.12</td>\n",
       "      <td>6.09</td>\n",
       "      <td>3.86</td>\n",
       "    </tr>\n",
       "    <tr>\n",
       "      <th>53938</th>\n",
       "      <td>0.86</td>\n",
       "      <td>4</td>\n",
       "      <td>3</td>\n",
       "      <td>2</td>\n",
       "      <td>61.0</td>\n",
       "      <td>58.0</td>\n",
       "      <td>2757</td>\n",
       "      <td>6.15</td>\n",
       "      <td>6.12</td>\n",
       "      <td>3.74</td>\n",
       "    </tr>\n",
       "  </tbody>\n",
       "</table>\n",
       "<p>11452 rows × 10 columns</p>\n",
       "</div>"
      ],
      "text/plain": [
       "       carat cut color clarity  depth  table  price     x     y     z\n",
       "91      0.86   1     6       2   55.1   69.0   2757  6.45  6.33  3.52\n",
       "97      0.96   1     5       2   66.3   62.0   2759  6.27  5.95  4.07\n",
       "112     0.90   4     2       4   63.0   58.0   2761  6.16  6.12  3.87\n",
       "126     0.91   4     3       3   61.4   56.0   2763  6.09  5.97  3.70\n",
       "128     0.91   1     3       2   64.4   57.0   2763  6.11  6.09  3.93\n",
       "...      ...  ..   ...     ...    ...    ...    ...   ...   ...   ...\n",
       "53875   1.04   3     2       1   61.6   61.0   2745  6.45  6.47  3.98\n",
       "53879   1.04   1     4       2   65.2   57.0   2745  6.25  6.23  4.07\n",
       "53897   1.02   2     3       1   64.3   63.0   2751  6.28  6.23  4.02\n",
       "53917   0.90   3     1       3   63.2   60.0   2753  6.12  6.09  3.86\n",
       "53938   0.86   4     3       2   61.0   58.0   2757  6.15  6.12  3.74\n",
       "\n",
       "[11452 rows x 10 columns]"
      ]
     },
     "execution_count": 712,
     "metadata": {},
     "output_type": "execute_result"
    }
   ],
   "source": [
    "ref_data"
   ]
  },
  {
   "cell_type": "code",
   "execution_count": 714,
   "id": "a3e27fef-bd85-49a5-a3c0-da15b4fbc316",
   "metadata": {},
   "outputs": [
    {
     "data": {
      "text/plain": [
       "<Axes: >"
      ]
     },
     "execution_count": 714,
     "metadata": {},
     "output_type": "execute_result"
    },
    {
     "data": {
      "image/png": "[encoded data removed]",
      "text/plain": [
       "<Figure size 640x480 with 1 Axes>"
      ]
     },
     "metadata": {},
     "output_type": "display_data"
    }
   ],
   "source": [
    "sns.heatmap(data=ref_data.corr()[['price']].sort_values(by='price', ascending=False), \n",
    "            annot=True, cmap='Blues', cbar=False, fmt=f'.3f')"
   ]
  },
  {
   "cell_type": "code",
   "execution_count": 716,
   "id": "6142929c-3f8a-4e85-8855-6c9874786620",
   "metadata": {},
   "outputs": [],
   "source": [
    "ref_data_2 = ref_data.query('carat < 1.05 and carat > .95')"
   ]
  },
  {
   "cell_type": "code",
   "execution_count": 718,
   "id": "9420fcb3-672c-4e03-9589-4280f5805b55",
   "metadata": {},
   "outputs": [
    {
     "data": {
      "text/plain": [
       "<Axes: >"
      ]
     },
     "execution_count": 718,
     "metadata": {},
     "output_type": "execute_result"
    },
    {
     "data": {
      "image/png": "[encoded data removed]",
      "text/plain": [
       "<Figure size 640x480 with 1 Axes>"
      ]
     },
     "metadata": {},
     "output_type": "display_data"
    }
   ],
   "source": [
    "sns.heatmap(data=ref_data_2.corr()[['price']].sort_values(by='price', ascending=False), \n",
    "            annot=True, cmap='Blues', cbar=False, fmt=f'.3f')"
   ]
  },
  {
   "cell_type": "code",
   "execution_count": 720,
   "id": "819b5ded-f3c5-413a-b119-65a91f2390b9",
   "metadata": {},
   "outputs": [],
   "source": [
    "ref_data_3 = ref_data_2.query('clarity == \"1\" and carat < 1.05 and carat > .95')"
   ]
  },
  {
   "cell_type": "code",
   "execution_count": 722,
   "id": "22b6f2a6-7c26-4a18-84ae-0e02e76fc11d",
   "metadata": {},
   "outputs": [
    {
     "data": {
      "text/plain": [
       "<Axes: >"
      ]
     },
     "execution_count": 722,
     "metadata": {},
     "output_type": "execute_result"
    },
    {
     "data": {
      "image/png": "[encoded data removed]",
      "text/plain": [
       "<Figure size 640x480 with 1 Axes>"
      ]
     },
     "metadata": {},
     "output_type": "display_data"
    }
   ],
   "source": [
    "sns.heatmap(data=ref_data_3.corr()[['price']].sort_values(by='price', ascending=False), \n",
    "            annot=True, cmap='Blues', cbar=False, fmt=f'.3f')"
   ]
  },
  {
   "cell_type": "code",
   "execution_count": 724,
   "id": "3c89bda6-bcd7-4d11-ba32-c5e93e064fe8",
   "metadata": {},
   "outputs": [
    {
     "data": {
      "text/plain": [
       "<Axes: >"
      ]
     },
     "execution_count": 724,
     "metadata": {},
     "output_type": "execute_result"
    },
    {
     "data": {
      "image/png": "[encoded data removed]",
      "text/plain": [
       "<Figure size 640x480 with 1 Axes>"
      ]
     },
     "metadata": {},
     "output_type": "display_data"
    }
   ],
   "source": [
    "ref_data_3 = ref_data_2.query('clarity == \"7\" and carat < 1.05 and carat > .95')\n",
    "\n",
    "sns.heatmap(data=ref_data_3.corr()[['price']].sort_values(by='price', ascending=False), \n",
    "            annot=True, cmap='Blues', cbar=False, fmt=f'.3f')"
   ]
  },
  {
   "cell_type": "code",
   "execution_count": null,
   "id": "010a1fa8-d08d-49dc-bac1-a756cbb0f879",
   "metadata": {},
   "outputs": [],
   "source": []
  },
  {
   "cell_type": "code",
   "execution_count": null,
   "id": "1c6c5187-5275-47cf-9a95-b435a1db048e",
   "metadata": {},
   "outputs": [],
   "source": []
  }
 ],
 "metadata": {
  "kernelspec": {
   "name": "conda-base-py"
  },
  "language_info": {
   "codemirror_mode": {
    "name": "ipython",
    "version": 3
   },
   "file_extension": ".py",
   "mimetype": "text/x-python",
   "name": "python",
   "nbconvert_exporter": "python",
   "pygments_lexer": "ipython3",
   "version": "3.12.3"
  }
 },
 "nbformat": 4,
 "nbformat_minor": 5
}
